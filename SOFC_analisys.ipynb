{
 "cells": [
  {
   "cell_type": "markdown",
   "id": "e88c8b5c",
   "metadata": {},
   "source": [
    "# Resources used"
   ]
  },
  {
   "cell_type": "code",
   "execution_count": 1,
   "id": "23cce2d6",
   "metadata": {},
   "outputs": [],
   "source": [
    "import time\n",
    "import shap\n",
    "import numpy as np\n",
    "import pandas as pd\n",
    "import seaborn as sns\n",
    "import matplotlib\n",
    "import matplotlib.pyplot as plt\n",
    "import yellowbrick\n",
    "from yellowbrick.model_selection import LearningCurve\n",
    "from datetime import datetime\n",
    "\n",
    "from sklearn.decomposition import PCA\n",
    "from sklearn.preprocessing import StandardScaler\n",
    "from sklearn.inspection import permutation_importance\n",
    "from sklearn.model_selection import train_test_split\n",
    "from sklearn.model_selection import ShuffleSplit, GridSearchCV, ParameterGrid\n",
    "\n",
    "import sklearn\n",
    "import xgboost as xgb\n",
    "from sklearn.svm import SVR\n",
    "from sklearn.neural_network import MLPRegressor\n",
    "from tqdm.notebook import trange\n",
    "\n",
    "from sklearn.metrics import r2_score\n",
    "from sklearn.metrics import mean_squared_error as MSE\n",
    "from sklearn.metrics import mean_absolute_error as MAE\n",
    "from sklearn.metrics import mean_absolute_percentage_error as MAPE"
   ]
  },
  {
   "cell_type": "code",
   "execution_count": 2,
   "id": "c8721af4",
   "metadata": {},
   "outputs": [
    {
     "name": "stdout",
     "output_type": "stream",
     "text": [
      "shap: v 0.47.0\n",
      "numpy: v 1.25.2\n",
      "pandas: v 2.2.3\n",
      "seaborn: v 0.13.2\n",
      "matplotlib: v 3.6.2\n",
      "yellowbrick: v 1.5\n",
      "sklearn: v 1.4.2\n",
      "XGBoost: v 2.1.2\n"
     ]
    }
   ],
   "source": [
    "print(f\"shap: v {shap.__version__}\")\n",
    "print(f\"numpy: v {np.__version__}\")\n",
    "print(f\"pandas: v {pd.__version__}\")\n",
    "print(f\"seaborn: v {sns.__version__}\")\n",
    "print(f\"matplotlib: v {matplotlib.__version__}\")\n",
    "print(f\"yellowbrick: v {yellowbrick.__version__}\")\n",
    "print(f\"sklearn: v {sklearn.__version__}\")\n",
    "print(f\"XGBoost: v {xgb.__version__}\")\n",
    "\n",
    "plt.rcParams['font.family'] = 'Palatino Linotype'\n",
    "plt.rcParams['font.size'] = 12\n",
    "random_state=42"
   ]
  },
  {
   "cell_type": "markdown",
   "id": "b438f1ff",
   "metadata": {},
   "source": [
    "# Exploratory data analisys"
   ]
  },
  {
   "cell_type": "markdown",
   "id": "7c9fa46e",
   "metadata": {},
   "source": [
    "## Data collection"
   ]
  },
  {
   "cell_type": "code",
   "execution_count": 3,
   "id": "3fd27ef2",
   "metadata": {},
   "outputs": [
    {
     "name": "stdout",
     "output_type": "stream",
     "text": [
      "<class 'pandas.core.frame.DataFrame'>\n",
      "DatetimeIndex: 14427 entries, 2024-04-23 19:20:09 to 2025-02-14 22:20:00\n",
      "Data columns (total 26 columns):\n",
      " #   Column     Non-Null Count  Dtype  \n",
      "---  ------     --------------  -----  \n",
      " 0   impl_spd2  14427 non-null  float64\n",
      " 1   I          14427 non-null  float64\n",
      " 2   pump_spd   14427 non-null  float64\n",
      " 3   W          14427 non-null  float64\n",
      " 4   Q_CH4      14427 non-null  float64\n",
      " 5   impl_spd1  14427 non-null  float64\n",
      " 6   Q_CH4_N2   14427 non-null  float64\n",
      " 7   P_NG       14427 non-null  float64\n",
      " 8   T3         14427 non-null  float64\n",
      " 9   T5         14427 non-null  float64\n",
      " 10  T7         14427 non-null  float64\n",
      " 11  T9         14427 non-null  float64\n",
      " 12  T12        14427 non-null  float64\n",
      " 13  T16        14427 non-null  float64\n",
      " 14  T17        14427 non-null  float64\n",
      " 15  T19        14427 non-null  float64\n",
      " 16  T20        14427 non-null  float64\n",
      " 17  T21        14427 non-null  float64\n",
      " 18  T22        14427 non-null  float64\n",
      " 19  T23        14427 non-null  float64\n",
      " 20  T25        14427 non-null  float64\n",
      " 21  T27        14427 non-null  float64\n",
      " 22  T30        14427 non-null  float64\n",
      " 23  T31        14427 non-null  float64\n",
      " 24  O2         14427 non-null  float64\n",
      " 25  V          14427 non-null  float64\n",
      "dtypes: float64(26)\n",
      "memory usage: 3.0 MB\n",
      "None\n"
     ]
    },
    {
     "data": {
      "text/html": [
       "<div>\n",
       "<style scoped>\n",
       "    .dataframe tbody tr th:only-of-type {\n",
       "        vertical-align: middle;\n",
       "    }\n",
       "\n",
       "    .dataframe tbody tr th {\n",
       "        vertical-align: top;\n",
       "    }\n",
       "\n",
       "    .dataframe thead th {\n",
       "        text-align: right;\n",
       "    }\n",
       "</style>\n",
       "<table border=\"1\" class=\"dataframe\">\n",
       "  <thead>\n",
       "    <tr style=\"text-align: right;\">\n",
       "      <th></th>\n",
       "      <th>impl_spd2</th>\n",
       "      <th>I</th>\n",
       "      <th>pump_spd</th>\n",
       "      <th>W</th>\n",
       "      <th>Q_CH4</th>\n",
       "      <th>impl_spd1</th>\n",
       "      <th>Q_CH4_N2</th>\n",
       "      <th>P_NG</th>\n",
       "      <th>T3</th>\n",
       "      <th>T5</th>\n",
       "      <th>...</th>\n",
       "      <th>T20</th>\n",
       "      <th>T21</th>\n",
       "      <th>T22</th>\n",
       "      <th>T23</th>\n",
       "      <th>T25</th>\n",
       "      <th>T27</th>\n",
       "      <th>T30</th>\n",
       "      <th>T31</th>\n",
       "      <th>O2</th>\n",
       "      <th>V</th>\n",
       "    </tr>\n",
       "    <tr>\n",
       "      <th>MCGS_TIME</th>\n",
       "      <th></th>\n",
       "      <th></th>\n",
       "      <th></th>\n",
       "      <th></th>\n",
       "      <th></th>\n",
       "      <th></th>\n",
       "      <th></th>\n",
       "      <th></th>\n",
       "      <th></th>\n",
       "      <th></th>\n",
       "      <th></th>\n",
       "      <th></th>\n",
       "      <th></th>\n",
       "      <th></th>\n",
       "      <th></th>\n",
       "      <th></th>\n",
       "      <th></th>\n",
       "      <th></th>\n",
       "      <th></th>\n",
       "      <th></th>\n",
       "      <th></th>\n",
       "    </tr>\n",
       "  </thead>\n",
       "  <tbody>\n",
       "    <tr>\n",
       "      <th>2024-04-25 17:09:57</th>\n",
       "      <td>11.000004</td>\n",
       "      <td>0.00</td>\n",
       "      <td>20.0</td>\n",
       "      <td>0.000</td>\n",
       "      <td>1.915943</td>\n",
       "      <td>6.0</td>\n",
       "      <td>5.971296</td>\n",
       "      <td>0.012215</td>\n",
       "      <td>874.949982</td>\n",
       "      <td>552.900024</td>\n",
       "      <td>...</td>\n",
       "      <td>667.599976</td>\n",
       "      <td>684.299988</td>\n",
       "      <td>618.700012</td>\n",
       "      <td>569.799988</td>\n",
       "      <td>630.149994</td>\n",
       "      <td>677.850006</td>\n",
       "      <td>66.199997</td>\n",
       "      <td>52.599998</td>\n",
       "      <td>12.0000</td>\n",
       "      <td>40.500000</td>\n",
       "    </tr>\n",
       "    <tr>\n",
       "      <th>2024-04-25 17:10:27</th>\n",
       "      <td>11.000004</td>\n",
       "      <td>0.03</td>\n",
       "      <td>20.0</td>\n",
       "      <td>1.218</td>\n",
       "      <td>1.797853</td>\n",
       "      <td>6.0</td>\n",
       "      <td>5.969877</td>\n",
       "      <td>0.012210</td>\n",
       "      <td>888.649994</td>\n",
       "      <td>552.799988</td>\n",
       "      <td>...</td>\n",
       "      <td>668.099976</td>\n",
       "      <td>684.299988</td>\n",
       "      <td>618.599976</td>\n",
       "      <td>570.349976</td>\n",
       "      <td>632.100006</td>\n",
       "      <td>682.500000</td>\n",
       "      <td>66.099998</td>\n",
       "      <td>52.599998</td>\n",
       "      <td>10.9375</td>\n",
       "      <td>40.599998</td>\n",
       "    </tr>\n",
       "    <tr>\n",
       "      <th>2024-04-25 17:10:57</th>\n",
       "      <td>11.000004</td>\n",
       "      <td>0.03</td>\n",
       "      <td>20.0</td>\n",
       "      <td>1.221</td>\n",
       "      <td>0.000099</td>\n",
       "      <td>6.0</td>\n",
       "      <td>6.114091</td>\n",
       "      <td>0.013080</td>\n",
       "      <td>829.799988</td>\n",
       "      <td>552.799988</td>\n",
       "      <td>...</td>\n",
       "      <td>668.900024</td>\n",
       "      <td>684.299988</td>\n",
       "      <td>618.599976</td>\n",
       "      <td>570.750000</td>\n",
       "      <td>634.450012</td>\n",
       "      <td>686.800018</td>\n",
       "      <td>66.000000</td>\n",
       "      <td>52.599998</td>\n",
       "      <td>11.0000</td>\n",
       "      <td>40.700001</td>\n",
       "    </tr>\n",
       "    <tr>\n",
       "      <th>2024-04-25 17:11:27</th>\n",
       "      <td>11.000004</td>\n",
       "      <td>0.03</td>\n",
       "      <td>20.0</td>\n",
       "      <td>1.218</td>\n",
       "      <td>0.000099</td>\n",
       "      <td>6.0</td>\n",
       "      <td>6.180676</td>\n",
       "      <td>0.013943</td>\n",
       "      <td>791.750000</td>\n",
       "      <td>552.799988</td>\n",
       "      <td>...</td>\n",
       "      <td>669.599976</td>\n",
       "      <td>684.299988</td>\n",
       "      <td>618.599976</td>\n",
       "      <td>570.899994</td>\n",
       "      <td>636.500000</td>\n",
       "      <td>688.549988</td>\n",
       "      <td>66.000000</td>\n",
       "      <td>52.599998</td>\n",
       "      <td>12.8125</td>\n",
       "      <td>40.599998</td>\n",
       "    </tr>\n",
       "    <tr>\n",
       "      <th>2024-04-25 17:11:57</th>\n",
       "      <td>11.000004</td>\n",
       "      <td>0.03</td>\n",
       "      <td>20.0</td>\n",
       "      <td>1.212</td>\n",
       "      <td>0.000099</td>\n",
       "      <td>6.0</td>\n",
       "      <td>5.873411</td>\n",
       "      <td>0.013312</td>\n",
       "      <td>780.850006</td>\n",
       "      <td>552.799988</td>\n",
       "      <td>...</td>\n",
       "      <td>670.299988</td>\n",
       "      <td>684.299988</td>\n",
       "      <td>618.700012</td>\n",
       "      <td>570.950012</td>\n",
       "      <td>637.199982</td>\n",
       "      <td>688.299988</td>\n",
       "      <td>66.000000</td>\n",
       "      <td>52.599998</td>\n",
       "      <td>13.4375</td>\n",
       "      <td>40.400002</td>\n",
       "    </tr>\n",
       "    <tr>\n",
       "      <th>2024-04-25 17:12:27</th>\n",
       "      <td>11.000004</td>\n",
       "      <td>0.03</td>\n",
       "      <td>20.0</td>\n",
       "      <td>1.218</td>\n",
       "      <td>0.000099</td>\n",
       "      <td>6.0</td>\n",
       "      <td>6.007771</td>\n",
       "      <td>0.013530</td>\n",
       "      <td>774.299988</td>\n",
       "      <td>552.799988</td>\n",
       "      <td>...</td>\n",
       "      <td>670.700012</td>\n",
       "      <td>684.299988</td>\n",
       "      <td>618.799988</td>\n",
       "      <td>570.750000</td>\n",
       "      <td>637.299988</td>\n",
       "      <td>687.399994</td>\n",
       "      <td>65.900002</td>\n",
       "      <td>52.599998</td>\n",
       "      <td>13.7500</td>\n",
       "      <td>40.599998</td>\n",
       "    </tr>\n",
       "    <tr>\n",
       "      <th>2024-04-25 17:12:57</th>\n",
       "      <td>11.000004</td>\n",
       "      <td>0.03</td>\n",
       "      <td>20.0</td>\n",
       "      <td>1.215</td>\n",
       "      <td>0.000099</td>\n",
       "      <td>6.0</td>\n",
       "      <td>5.960526</td>\n",
       "      <td>0.013125</td>\n",
       "      <td>771.300018</td>\n",
       "      <td>552.900024</td>\n",
       "      <td>...</td>\n",
       "      <td>670.900024</td>\n",
       "      <td>684.299988</td>\n",
       "      <td>619.000000</td>\n",
       "      <td>570.750000</td>\n",
       "      <td>636.950012</td>\n",
       "      <td>686.350006</td>\n",
       "      <td>65.900002</td>\n",
       "      <td>52.599998</td>\n",
       "      <td>13.8750</td>\n",
       "      <td>40.500000</td>\n",
       "    </tr>\n",
       "    <tr>\n",
       "      <th>2024-04-25 17:13:27</th>\n",
       "      <td>11.000004</td>\n",
       "      <td>0.03</td>\n",
       "      <td>20.0</td>\n",
       "      <td>1.215</td>\n",
       "      <td>0.000099</td>\n",
       "      <td>6.0</td>\n",
       "      <td>6.058997</td>\n",
       "      <td>0.013146</td>\n",
       "      <td>769.399994</td>\n",
       "      <td>552.799988</td>\n",
       "      <td>...</td>\n",
       "      <td>670.900024</td>\n",
       "      <td>684.299988</td>\n",
       "      <td>619.099976</td>\n",
       "      <td>570.549988</td>\n",
       "      <td>636.449982</td>\n",
       "      <td>685.350006</td>\n",
       "      <td>65.900002</td>\n",
       "      <td>52.500000</td>\n",
       "      <td>14.0000</td>\n",
       "      <td>40.500000</td>\n",
       "    </tr>\n",
       "    <tr>\n",
       "      <th>2024-04-25 17:13:57</th>\n",
       "      <td>11.000004</td>\n",
       "      <td>0.03</td>\n",
       "      <td>20.0</td>\n",
       "      <td>1.080</td>\n",
       "      <td>0.000099</td>\n",
       "      <td>6.0</td>\n",
       "      <td>5.957923</td>\n",
       "      <td>0.013148</td>\n",
       "      <td>766.700012</td>\n",
       "      <td>552.799988</td>\n",
       "      <td>...</td>\n",
       "      <td>670.900024</td>\n",
       "      <td>684.299988</td>\n",
       "      <td>619.299988</td>\n",
       "      <td>570.450012</td>\n",
       "      <td>635.899994</td>\n",
       "      <td>684.549988</td>\n",
       "      <td>65.900002</td>\n",
       "      <td>52.500000</td>\n",
       "      <td>14.0000</td>\n",
       "      <td>36.000000</td>\n",
       "    </tr>\n",
       "    <tr>\n",
       "      <th>2024-04-25 17:14:27</th>\n",
       "      <td>11.000004</td>\n",
       "      <td>0.00</td>\n",
       "      <td>20.0</td>\n",
       "      <td>0.000</td>\n",
       "      <td>0.000099</td>\n",
       "      <td>6.0</td>\n",
       "      <td>5.943840</td>\n",
       "      <td>0.013314</td>\n",
       "      <td>755.299988</td>\n",
       "      <td>552.700012</td>\n",
       "      <td>...</td>\n",
       "      <td>670.700012</td>\n",
       "      <td>684.299988</td>\n",
       "      <td>619.500000</td>\n",
       "      <td>569.600006</td>\n",
       "      <td>635.049988</td>\n",
       "      <td>683.500000</td>\n",
       "      <td>65.800003</td>\n",
       "      <td>52.500000</td>\n",
       "      <td>13.9375</td>\n",
       "      <td>37.099998</td>\n",
       "    </tr>\n",
       "  </tbody>\n",
       "</table>\n",
       "<p>10 rows × 26 columns</p>\n",
       "</div>"
      ],
      "text/plain": [
       "                     impl_spd2     I  pump_spd      W     Q_CH4  impl_spd1  \\\n",
       "MCGS_TIME                                                                    \n",
       "2024-04-25 17:09:57  11.000004  0.00      20.0  0.000  1.915943        6.0   \n",
       "2024-04-25 17:10:27  11.000004  0.03      20.0  1.218  1.797853        6.0   \n",
       "2024-04-25 17:10:57  11.000004  0.03      20.0  1.221  0.000099        6.0   \n",
       "2024-04-25 17:11:27  11.000004  0.03      20.0  1.218  0.000099        6.0   \n",
       "2024-04-25 17:11:57  11.000004  0.03      20.0  1.212  0.000099        6.0   \n",
       "2024-04-25 17:12:27  11.000004  0.03      20.0  1.218  0.000099        6.0   \n",
       "2024-04-25 17:12:57  11.000004  0.03      20.0  1.215  0.000099        6.0   \n",
       "2024-04-25 17:13:27  11.000004  0.03      20.0  1.215  0.000099        6.0   \n",
       "2024-04-25 17:13:57  11.000004  0.03      20.0  1.080  0.000099        6.0   \n",
       "2024-04-25 17:14:27  11.000004  0.00      20.0  0.000  0.000099        6.0   \n",
       "\n",
       "                     Q_CH4_N2      P_NG          T3          T5  ...  \\\n",
       "MCGS_TIME                                                        ...   \n",
       "2024-04-25 17:09:57  5.971296  0.012215  874.949982  552.900024  ...   \n",
       "2024-04-25 17:10:27  5.969877  0.012210  888.649994  552.799988  ...   \n",
       "2024-04-25 17:10:57  6.114091  0.013080  829.799988  552.799988  ...   \n",
       "2024-04-25 17:11:27  6.180676  0.013943  791.750000  552.799988  ...   \n",
       "2024-04-25 17:11:57  5.873411  0.013312  780.850006  552.799988  ...   \n",
       "2024-04-25 17:12:27  6.007771  0.013530  774.299988  552.799988  ...   \n",
       "2024-04-25 17:12:57  5.960526  0.013125  771.300018  552.900024  ...   \n",
       "2024-04-25 17:13:27  6.058997  0.013146  769.399994  552.799988  ...   \n",
       "2024-04-25 17:13:57  5.957923  0.013148  766.700012  552.799988  ...   \n",
       "2024-04-25 17:14:27  5.943840  0.013314  755.299988  552.700012  ...   \n",
       "\n",
       "                            T20         T21         T22         T23  \\\n",
       "MCGS_TIME                                                             \n",
       "2024-04-25 17:09:57  667.599976  684.299988  618.700012  569.799988   \n",
       "2024-04-25 17:10:27  668.099976  684.299988  618.599976  570.349976   \n",
       "2024-04-25 17:10:57  668.900024  684.299988  618.599976  570.750000   \n",
       "2024-04-25 17:11:27  669.599976  684.299988  618.599976  570.899994   \n",
       "2024-04-25 17:11:57  670.299988  684.299988  618.700012  570.950012   \n",
       "2024-04-25 17:12:27  670.700012  684.299988  618.799988  570.750000   \n",
       "2024-04-25 17:12:57  670.900024  684.299988  619.000000  570.750000   \n",
       "2024-04-25 17:13:27  670.900024  684.299988  619.099976  570.549988   \n",
       "2024-04-25 17:13:57  670.900024  684.299988  619.299988  570.450012   \n",
       "2024-04-25 17:14:27  670.700012  684.299988  619.500000  569.600006   \n",
       "\n",
       "                            T25         T27        T30        T31       O2  \\\n",
       "MCGS_TIME                                                                    \n",
       "2024-04-25 17:09:57  630.149994  677.850006  66.199997  52.599998  12.0000   \n",
       "2024-04-25 17:10:27  632.100006  682.500000  66.099998  52.599998  10.9375   \n",
       "2024-04-25 17:10:57  634.450012  686.800018  66.000000  52.599998  11.0000   \n",
       "2024-04-25 17:11:27  636.500000  688.549988  66.000000  52.599998  12.8125   \n",
       "2024-04-25 17:11:57  637.199982  688.299988  66.000000  52.599998  13.4375   \n",
       "2024-04-25 17:12:27  637.299988  687.399994  65.900002  52.599998  13.7500   \n",
       "2024-04-25 17:12:57  636.950012  686.350006  65.900002  52.599998  13.8750   \n",
       "2024-04-25 17:13:27  636.449982  685.350006  65.900002  52.500000  14.0000   \n",
       "2024-04-25 17:13:57  635.899994  684.549988  65.900002  52.500000  14.0000   \n",
       "2024-04-25 17:14:27  635.049988  683.500000  65.800003  52.500000  13.9375   \n",
       "\n",
       "                             V  \n",
       "MCGS_TIME                       \n",
       "2024-04-25 17:09:57  40.500000  \n",
       "2024-04-25 17:10:27  40.599998  \n",
       "2024-04-25 17:10:57  40.700001  \n",
       "2024-04-25 17:11:27  40.599998  \n",
       "2024-04-25 17:11:57  40.400002  \n",
       "2024-04-25 17:12:27  40.599998  \n",
       "2024-04-25 17:12:57  40.500000  \n",
       "2024-04-25 17:13:27  40.500000  \n",
       "2024-04-25 17:13:57  36.000000  \n",
       "2024-04-25 17:14:27  37.099998  \n",
       "\n",
       "[10 rows x 26 columns]"
      ]
     },
     "execution_count": 3,
     "metadata": {},
     "output_type": "execute_result"
    }
   ],
   "source": [
    "df = pd.read_csv('数据时间导出.csv')  # 47 features\n",
    "df = df.rename(columns={'VD0000':'impl_spd2',  # Main fan speed [rps]\n",
    "                        'VD0008':'pump_spd',  # Peristaltic pump rotation speed [rps]\n",
    "                        'VD0012':'I',  # Current [A]\n",
    "                        'VD0016':'V',  # Voltage [V]\n",
    "                        'VD0020':'W',  # Power [Wt]\n",
    "                        'VD0028':'Q_CH4',  # CH4 flow rate [m3/h]\n",
    "                        'VD0032':'impl_spd1',  # Cooling fan speed [rps]\n",
    "                        'VD0036':'Q_CH4_N2',  #CH4/N2 flow rate [m3/h]\n",
    "                        'VD0040':'P_NG',  # Differential natural gas pressure [bar]\n",
    "                        'VD44':'O2',  # Inlet air oxygen concentration [%]\n",
    "                        'VD208':'T3',  # bottom of the burner temperature [°C]\n",
    "                        'VD212':'T4',  # top of the burner temperature [°C]\n",
    "                        'VD216':'T5',  # inlet of the reformer temperature [°C]\n",
    "                        'VD224':'T7',  # exhaust gases from the SOFC temperature [°C]\n",
    "                        'VD232':'T9',  # heat exchanger temperature [°C]\n",
    "                        'VD244':'T12',  # water temperature for steam reforming [°C]\n",
    "                        'VD260':'T16',  # left front point of the SOFC temperature [°C]\n",
    "                        'VD264':'T17',  # right rear point of the SOFC temperature [°C]\n",
    "                        'VD272':'T19',  # air at the inlet of the SOFC temperature [°C]\n",
    "                        'VD276':'T20',  # hydrogen at the inlet of the SOFC temperature [°C]\n",
    "                        'VD280':'T21',  # air at the outlet of the SOFC temperature [°C]\n",
    "                        'VD284':'T22',  # hydrogen at the outlet of the SOFC temperature [°C]\n",
    "                        'VD288':'T23',  # top rear point of the reformer temperature [°C]\n",
    "                        'VD292':'T24',  # bottom rear point of the reformer temperature [°C]\n",
    "                        'VD296':'T25',  # top left point of the reformer temperature [°C]\n",
    "                        'VD300':'T26',  # bottom left point of the reformer temperature [°C]\n",
    "                        'VD304':'T27',  # top right point of the reformer temperature [°C]\n",
    "                        'VD308':'T28',  # bottom right point of the reformer temperature [°C]\n",
    "                        'VD316':'T30',  # cooling water temperature [°C]\n",
    "                        'VD320':'T31'})  # water tank temperature [°C]\n",
    "\n",
    "df.MCGS_TIME = pd.to_datetime(df.MCGS_TIME)\n",
    "df = df.set_index('MCGS_TIME')\n",
    "df = df.drop(columns=['MCGS_TIMEMS', 'VD48', 'VD0004', 'VD0024'])  # drop 4 useless features\n",
    "df = df[df.columns[(abs(df.mean()-3000)>0.1)]]  # filtering 12 incorrect sensor readings\n",
    "df = df[df.T17 != 3000]  # remove 92 lines with incorrect T17-value\n",
    "df = df[df.V != 0]  # remove 18324 lines with zero target feature\n",
    "\n",
    "# combine similar features (-4)\n",
    "df.T3 = df[['T3', 'T4']].mean(axis=1)\n",
    "df.T23 = df[['T23', 'T24']].mean(axis=1)\n",
    "df.T25 = df[['T25', 'T26']].mean(axis=1)\n",
    "df.T27 = df[['T27', 'T28']].mean(axis=1)\n",
    "df = df.drop(columns=['T4', 'T24', 'T26', 'T28'])\n",
    "\n",
    "# move the voltage to the end position (for correlation matrix)\n",
    "V = df.V\n",
    "df = df.drop('V', axis=1)\n",
    "df['V'] = V\n",
    "\n",
    "#df.to_excel(f'DATA.xlsx')\n",
    "\n",
    "print(df.info())\n",
    "df.iloc[5480:5490, :]"
   ]
  },
  {
   "cell_type": "markdown",
   "id": "9f6a5828",
   "metadata": {},
   "source": [
    "## Correlation matrix of initial features"
   ]
  },
  {
   "cell_type": "code",
   "execution_count": 4,
   "id": "d89d0574",
   "metadata": {},
   "outputs": [
    {
     "data": {
      "image/png": "[encoded data removed]",
      "text/plain": [
       "<Figure size 900x800 with 2 Axes>"
      ]
     },
     "metadata": {},
     "output_type": "display_data"
    }
   ],
   "source": [
    "df_corr = df.corr('pearson')\n",
    "\n",
    "# Let's sort column B by correlation strength (absolute value)\n",
    "df_corr.sort_values(by='V', axis='columns', ascending=False, inplace=True, key=lambda col: abs(col))\n",
    "\n",
    "# Generate a mask for the upper triangle\n",
    "mask = np.triu(np.ones_like(df_corr, dtype=bool))\n",
    "\n",
    "# Set up the matplotlib figure\n",
    "fig, ax = plt.subplots(figsize=(9, 8))\n",
    "\n",
    "# Draw the heatmap with the mask and correct aspect ratio\n",
    "sns.heatmap(df_corr, \n",
    "            #annot=True, \n",
    "            mask=mask, \n",
    "            cmap=sns.color_palette(\"vlag\", as_cmap=True), \n",
    "            fmt=\".3f\", \n",
    "            vmax=1.0, \n",
    "            vmin=-1.0, \n",
    "            center=0,\n",
    "            square=True, \n",
    "            linewidths=1, \n",
    "            cbar_kws={\"shrink\": .8}).set(title='Pearson correlation matrix of initial features')\n",
    "\n",
    "plt.savefig('pictures/full_corr_matrix.png', dpi = 300, transparent = True)\n",
    "#df_corr.style.background_gradient(cmap=sns.color_palette(\"vlag\", as_cmap=True), vmin = -1, vmax=1)  # output table-factor"
   ]
  },
  {
   "cell_type": "markdown",
   "id": "447e0ad2",
   "metadata": {},
   "source": [
    "## Data preprocessing"
   ]
  },
  {
   "cell_type": "code",
   "execution_count": 5,
   "id": "6a138527",
   "metadata": {
    "scrolled": true
   },
   "outputs": [],
   "source": [
    "X = df.drop(columns='V').copy()  # input feature\n",
    "y = df.V.copy()  # target feature (Voltage [V])\n",
    "\n",
    "# Standardization of input feature general set \n",
    "scaler = StandardScaler()\n",
    "X_std = scaler.fit_transform(X)\n",
    "X_std = pd.DataFrame(X_std, columns=X.columns)\n",
    "\n",
    "# Spliting data into train and test sets\n",
    "X_train, X_test, y_train, y_test = train_test_split(X_std, y, test_size=0.2, random_state=random_state)"
   ]
  },
  {
   "cell_type": "markdown",
   "id": "d702161d",
   "metadata": {},
   "source": [
    "## Feature important"
   ]
  },
  {
   "cell_type": "markdown",
   "id": "eb407c6b",
   "metadata": {},
   "source": [
    "### XGBoost features importance (MDI)"
   ]
  },
  {
   "cell_type": "code",
   "execution_count": 6,
   "id": "a579ce44",
   "metadata": {},
   "outputs": [],
   "source": [
    "n = 11  # base component count"
   ]
  },
  {
   "cell_type": "code",
   "execution_count": 7,
   "id": "a30d0532",
   "metadata": {},
   "outputs": [
    {
     "data": {
      "image/png": "[encoded data removed]",
      "text/plain": [
       "<Figure size 700x550 with 1 Axes>"
      ]
     },
     "metadata": {},
     "output_type": "display_data"
    }
   ],
   "source": [
    "selector = xgb.XGBRegressor(random_state=random_state)\n",
    "selector.fit(X_std, y)\n",
    "\n",
    "feature_importances = pd.DataFrame({'importance' : selector.feature_importances_}, \n",
    "                                   index=X_std.columns).sort_values(by='importance', ascending=True)\n",
    "\n",
    "feature_importances = feature_importances.iloc[-n:, :]  # get n-strongest features\n",
    "MDI_columns = feature_importances.sort_values(by='importance', ascending=False).index\n",
    "\n",
    "plt.figure(figsize=(7, n/2))\n",
    "plt.barh(range(len(feature_importances.index)), feature_importances.importance, align='center')\n",
    "plt.yticks(range(len(feature_importances.index)), feature_importances.index)\n",
    "plt.xlabel('Feature weight')\n",
    "plt.tight_layout()\n",
    "plt.savefig('pictures/standard_feature_important.png', dpi = 300, transparent = True)\n",
    "plt.title('XGBoost features importance (MDI)')\n",
    "plt.show()"
   ]
  },
  {
   "cell_type": "markdown",
   "id": "5c2bb58e",
   "metadata": {},
   "source": [
    "### Permutation Importance (PI)"
   ]
  },
  {
   "cell_type": "code",
   "execution_count": 8,
   "id": "df64652f",
   "metadata": {},
   "outputs": [
    {
     "data": {
      "image/png": "[encoded data removed]",
      "text/plain": [
       "<Figure size 700x550 with 1 Axes>"
      ]
     },
     "metadata": {},
     "output_type": "display_data"
    }
   ],
   "source": [
    "feature_importances = pd.DataFrame(\n",
    "    {'importance' : permutation_importance(selector, X_std, y, n_repeats=5, \n",
    "                                           random_state=random_state, n_jobs=-1).importances_mean},\n",
    "    index=X_std.columns).sort_values(by='importance', ascending=True)\n",
    "\n",
    "feature_importances = feature_importances.iloc[-n:, :]  # get n-strongest features\n",
    "PI_columns = feature_importances.sort_values(by='importance', ascending=False).index\n",
    "\n",
    "plt.figure(figsize=(7, n/2))\n",
    "plt.barh(range(len(feature_importances.index)), feature_importances.importance, align='center')\n",
    "plt.yticks(range(len(feature_importances.index)), feature_importances.index)\n",
    "plt.xlabel('Feature weight')\n",
    "plt.tight_layout()\n",
    "plt.savefig('pictures/Permutation_Importance.png', dpi = 300, transparent = True)\n",
    "plt.title('Permutation Importance')\n",
    "plt.show()"
   ]
  },
  {
   "cell_type": "markdown",
   "id": "d1fc414a",
   "metadata": {},
   "source": [
    "### SHapley Additive exPlanations (SHAP)"
   ]
  },
  {
   "cell_type": "code",
   "execution_count": 9,
   "id": "e8339146",
   "metadata": {},
   "outputs": [],
   "source": [
    "def global_shap_importance(model, X):\n",
    "    \"\"\" Return a dataframe containing the features sorted by Shap importance\n",
    "    Parameters\n",
    "    ----------\n",
    "    model : The tree-based model \n",
    "    X : pd.Dataframe\n",
    "         training set/test set/the whole dataset ... (without the label)\n",
    "    Returns\n",
    "    -------\n",
    "    pd.Dataframe\n",
    "        A dataframe containing the features sorted by Shap importance\n",
    "    \"\"\"\n",
    "    explainer = shap.Explainer(model)\n",
    "    shap_values = explainer(X)\n",
    "    cohorts = {\"\": shap_values}\n",
    "    cohort_labels = list(cohorts.keys())\n",
    "    cohort_exps = list(cohorts.values())\n",
    "    for i in range(len(cohort_exps)):\n",
    "        if len(cohort_exps[i].shape) == 2:\n",
    "            cohort_exps[i] = cohort_exps[i].abs.mean(0)\n",
    "    features = cohort_exps[0].data\n",
    "    feature_names = cohort_exps[0].feature_names\n",
    "    values = np.array([cohort_exps[i].values for i in range(len(cohort_exps))])\n",
    "    feature_importance = pd.DataFrame(\n",
    "        list(zip(feature_names, sum(values))), columns=['features', 'importance'])\n",
    "    feature_importance.sort_values(by=['importance'], ascending=False, inplace=True)\n",
    "    return feature_importance.set_index('features')"
   ]
  },
  {
   "cell_type": "code",
   "execution_count": 10,
   "id": "1a4af5eb",
   "metadata": {},
   "outputs": [
    {
     "data": {
      "image/png": "[encoded data removed]",
      "text/plain": [
       "<Figure size 700x550 with 1 Axes>"
      ]
     },
     "metadata": {},
     "output_type": "display_data"
    }
   ],
   "source": [
    "feature_importances = global_shap_importance(selector, X_std).iloc[:n, :]  # get n-strongest feature\n",
    "SHAP_columns = feature_importances.index\n",
    "\n",
    "feature_importances.sort_values(by=['importance'], ascending=True, inplace=True)\n",
    "plt.figure(figsize=(7, n/2))\n",
    "plt.barh(range(len(feature_importances.index)), feature_importances.importance, align='center')\n",
    "plt.yticks(range(len(feature_importances.index)), feature_importances.index)\n",
    "plt.xlabel('mean(|SHAP value|)')\n",
    "plt.tight_layout()\n",
    "plt.savefig('pictures/SHAP_Importance2.png', dpi = 300, transparent = True)\n",
    "plt.title('SHAP Importance')\n",
    "plt.show()"
   ]
  },
  {
   "cell_type": "code",
   "execution_count": 11,
   "id": "565a75d8",
   "metadata": {
    "scrolled": false
   },
   "outputs": [
    {
     "data": {
      "text/plain": [
       "<function matplotlib.pyplot.show(close=None, block=None)>"
      ]
     },
     "execution_count": 11,
     "metadata": {},
     "output_type": "execute_result"
    },
    {
     "data": {
      "image/png": "[encoded data removed]",
      "text/plain": [
       "<Figure size 700x550 with 1 Axes>"
      ]
     },
     "metadata": {},
     "output_type": "display_data"
    }
   ],
   "source": [
    "explainer = shap.Explainer(selector)\n",
    "shap_importances = explainer(X_std)\n",
    "\n",
    "shap.plots.bar(shap_importances, max_display=n+1, show=False)\n",
    "\n",
    "plt.gcf().set_size_inches(7, n/2)\n",
    "plt.title('SHAP Importance')\n",
    "plt.tight_layout()\n",
    "plt.savefig('pictures/SHAP_Importance.png', dpi = 300, transparent = True)\n",
    "plt.show"
   ]
  },
  {
   "cell_type": "markdown",
   "id": "3b136a16",
   "metadata": {},
   "source": [
    "###\tPrincipal component analysis (PCA)"
   ]
  },
  {
   "cell_type": "code",
   "execution_count": 12,
   "id": "0f5545bd",
   "metadata": {},
   "outputs": [],
   "source": [
    "# Features PCA decomposition\n",
    "n = 5  # number strongest features\n",
    "pca = PCA(n_components=n)\n",
    "pca.fit(X_std)\n",
    "X_dec = pca.fit_transform(X_std)\n",
    "X_dec = pd.DataFrame(X_dec, columns=[f'component{i}' for i in range(n)])"
   ]
  },
  {
   "cell_type": "code",
   "execution_count": 13,
   "id": "625efc56",
   "metadata": {
    "scrolled": false
   },
   "outputs": [
    {
     "data": {
      "image/png": "[encoded data removed]",
      "text/plain": [
       "<Figure size 700x250 with 1 Axes>"
      ]
     },
     "metadata": {},
     "output_type": "display_data"
    },
    {
     "data": {
      "text/html": [
       "<div>\n",
       "<style scoped>\n",
       "    .dataframe tbody tr th:only-of-type {\n",
       "        vertical-align: middle;\n",
       "    }\n",
       "\n",
       "    .dataframe tbody tr th {\n",
       "        vertical-align: top;\n",
       "    }\n",
       "\n",
       "    .dataframe thead th {\n",
       "        text-align: right;\n",
       "    }\n",
       "</style>\n",
       "<table border=\"1\" class=\"dataframe\">\n",
       "  <thead>\n",
       "    <tr style=\"text-align: right;\">\n",
       "      <th></th>\n",
       "      <th>importance</th>\n",
       "    </tr>\n",
       "  </thead>\n",
       "  <tbody>\n",
       "    <tr>\n",
       "      <th>component4</th>\n",
       "      <td>0.116895</td>\n",
       "    </tr>\n",
       "    <tr>\n",
       "      <th>component3</th>\n",
       "      <td>0.155628</td>\n",
       "    </tr>\n",
       "    <tr>\n",
       "      <th>component2</th>\n",
       "      <td>0.207408</td>\n",
       "    </tr>\n",
       "    <tr>\n",
       "      <th>component0</th>\n",
       "      <td>0.211287</td>\n",
       "    </tr>\n",
       "    <tr>\n",
       "      <th>component1</th>\n",
       "      <td>0.308782</td>\n",
       "    </tr>\n",
       "  </tbody>\n",
       "</table>\n",
       "</div>"
      ],
      "text/plain": [
       "            importance\n",
       "component4    0.116895\n",
       "component3    0.155628\n",
       "component2    0.207408\n",
       "component0    0.211287\n",
       "component1    0.308782"
      ]
     },
     "execution_count": 13,
     "metadata": {},
     "output_type": "execute_result"
    }
   ],
   "source": [
    "selector = xgb.XGBRegressor(objective='reg:absoluteerror', random_state=random_state)\n",
    "selector.fit(X_dec, y)\n",
    "\n",
    "feature_importances = pd.DataFrame({'importance' : selector.feature_importances_}, \n",
    "                                   index=X_dec.columns).sort_values(by='importance', ascending=True)\n",
    "\n",
    "plt.figure(figsize=(7, n/2))\n",
    "plt.barh(range(len(feature_importances.index)), feature_importances.importance, align='center')\n",
    "plt.yticks(range(len(feature_importances.index)), feature_importances.index)\n",
    "plt.xlabel('Feature weight')\n",
    "plt.tight_layout()\n",
    "plt.savefig('pictures/PCA-Decomposed_feature_important.png', dpi = 300, transparent = True)\n",
    "plt.title('PCA-XGBoost features importance')\n",
    "plt.show()\n",
    "\n",
    "feature_importances"
   ]
  },
  {
   "cell_type": "markdown",
   "id": "dae6d18f",
   "metadata": {},
   "source": [
    "# Fit models"
   ]
  },
  {
   "cell_type": "code",
   "execution_count": 14,
   "id": "ec5b2750",
   "metadata": {},
   "outputs": [],
   "source": [
    "# dataFrame with search result\n",
    "search_result = pd.DataFrame(columns=['R2_score', 'MSE', 'MAE', 'MAPE', 'seconds'])"
   ]
  },
  {
   "cell_type": "markdown",
   "id": "7ba49714",
   "metadata": {},
   "source": [
    "## XGBoost"
   ]
  },
  {
   "cell_type": "code",
   "execution_count": 15,
   "id": "cb5de6db",
   "metadata": {},
   "outputs": [],
   "source": [
    "# XGBoost GridSearchCV option\n",
    "\n",
    "n_splits=5\n",
    "\n",
    "param_grid={'max_depth': range(2, 6),\n",
    "            'learning_rate': [0.01, 0.1, 0.2],\n",
    "            'gamma': [0, 0.1, 1, 10],\n",
    "            #'min_child_weight': [0, 0.1, 1, 10]\n",
    "           }"
   ]
  },
  {
   "cell_type": "markdown",
   "id": "88e930a0",
   "metadata": {},
   "source": [
    "### default (full set)"
   ]
  },
  {
   "cell_type": "code",
   "execution_count": 16,
   "id": "54f50f9c",
   "metadata": {},
   "outputs": [
    {
     "name": "stdout",
     "output_type": "stream",
     "text": [
      "Fitting 5 folds for each of 48 candidates, totalling 240 fits\n",
      "Best XGBRegressor-params: {'gamma': 0, 'learning_rate': 0.2, 'max_depth': 5}\n",
      "CPU times: total: 5min 26s\n",
      "Wall time: 43.1 s\n"
     ]
    }
   ],
   "source": [
    "%%time\n",
    "\n",
    "start_time = time.time()\n",
    "XGB_grid = GridSearchCV(estimator=xgb.XGBRegressor(random_state=random_state),\n",
    "                        param_grid=param_grid, \n",
    "                        verbose=1,\n",
    "                        #cv=ShuffleSplit(n_splits=n_splits, random_state=random_state),\n",
    "                        cv=n_splits\n",
    "                        )\n",
    "\n",
    "XGB_grid.fit(X_train, y_train)\n",
    "XGB_best = XGB_grid.best_estimator_\n",
    "y_pred = XGB_best.predict(X_test)\n",
    "\n",
    "elapsed_time = time.time() - start_time\n",
    "\n",
    "print(\"Best XGBRegressor-params:\", XGB_grid.best_params_)"
   ]
  },
  {
   "cell_type": "code",
   "execution_count": 17,
   "id": "3c5fa711",
   "metadata": {},
   "outputs": [
    {
     "name": "stdout",
     "output_type": "stream",
     "text": [
      "default XGBoost\n",
      "r2_score: 0.997\n",
      "MSE: 0.994\n",
      "MAE: 0.3086\n",
      "MAPE: 2.63%\n"
     ]
    }
   ],
   "source": [
    "search_result.loc['XGB default'] = (r2_score(y_pred, y_test),\n",
    "                                    MSE(y_pred, y_test),\n",
    "                                    MAE(y_pred, y_test),\n",
    "                                    MAPE(y_pred, y_test),\n",
    "                                    elapsed_time/(len(ParameterGrid(param_grid))*n_splits))\n",
    "print('default XGBoost',\n",
    "      f'r2_score: {r2_score(y_pred, y_test):.4}',\n",
    "      f'MSE: {MSE(y_pred, y_test):.4}',\n",
    "      f'MAE: {MAE(y_pred, y_test):.4}',\n",
    "      f'MAPE: {MAPE(y_pred, y_test):.2%}', sep='\\n')"
   ]
  },
  {
   "cell_type": "code",
   "execution_count": 18,
   "id": "24a31595",
   "metadata": {},
   "outputs": [
    {
     "data": {
      "image/png": "[encoded data removed]",
      "text/plain": [
       "<Figure size 720x480 with 1 Axes>"
      ]
     },
     "metadata": {},
     "output_type": "display_data"
    },
    {
     "data": {
      "text/plain": [
       "<AxesSubplot: title={'center': 'Learning Curve for XGBRegressor'}, xlabel='Training Instances', ylabel='Score'>"
      ]
     },
     "execution_count": 18,
     "metadata": {},
     "output_type": "execute_result"
    }
   ],
   "source": [
    "# Plotting learning curve for XGBoost regressor\n",
    "cv = ShuffleSplit(n_splits=5, random_state=random_state)\n",
    "sizes = np.linspace(0.3, 1.0, 10)\n",
    "plt.figure(figsize=(8,6))\n",
    "visualizer = LearningCurve(XGB_best, \n",
    "                           cv=cv, \n",
    "                           scoring='neg_mean_absolute_percentage_error', \n",
    "                           train_sizes=sizes, n_jobs=-1, size=(720, 480))\n",
    "\n",
    "visualizer.fit(X_std,y)\n",
    "\n",
    "plt.title('Learning Curve for XGBRegressor')\n",
    "plt.xlabel('Training Instances')\n",
    "plt.ylabel('Score')\n",
    "plt.tight_layout()\n",
    "plt.savefig('pictures/Learning_Curve_for_XGBR.png', dpi = 300, transparent = True)\n",
    "visualizer.show()"
   ]
  },
  {
   "cell_type": "markdown",
   "id": "08aa77d3",
   "metadata": {},
   "source": [
    "### PCA"
   ]
  },
  {
   "cell_type": "code",
   "execution_count": 19,
   "id": "1bc26c6a",
   "metadata": {},
   "outputs": [
    {
     "data": {
      "application/vnd.jupyter.widget-view+json": {
       "model_id": "feb5bc5008b34e469a15feb0c5b34626",
       "version_major": 2,
       "version_minor": 0
      },
      "text/plain": [
       "components progress:   0%|          | 0/7 [00:00<?, ?it/s]"
      ]
     },
     "metadata": {},
     "output_type": "display_data"
    },
    {
     "name": "stdout",
     "output_type": "stream",
     "text": [
      "Best XGBRegressor-params: {'gamma': 0, 'learning_rate': 0.2, 'max_depth': 5}\n",
      "Best XGBRegressor-params: {'gamma': 0.1, 'learning_rate': 0.2, 'max_depth': 5}\n",
      "Best XGBRegressor-params: {'gamma': 0, 'learning_rate': 0.2, 'max_depth': 5}\n",
      "Best XGBRegressor-params: {'gamma': 0.1, 'learning_rate': 0.2, 'max_depth': 5}\n",
      "Best XGBRegressor-params: {'gamma': 0.1, 'learning_rate': 0.2, 'max_depth': 5}\n",
      "Best XGBRegressor-params: {'gamma': 0.1, 'learning_rate': 0.2, 'max_depth': 5}\n",
      "Best XGBRegressor-params: {'gamma': 0.1, 'learning_rate': 0.2, 'max_depth': 5}\n",
      "CPU times: total: 23min 44s\n",
      "Wall time: 3min 2s\n"
     ]
    }
   ],
   "source": [
    "%%time\n",
    "\n",
    "start_time = time.time()\n",
    "df_PCA_search = pd.DataFrame(columns=['r2_score', 'MSE', 'MAE', 'MAPE'])\n",
    "\n",
    "for n in trange(5, 12, desc=f\"components progress\"):\n",
    "    pca = PCA(n_components=n)\n",
    "    pca.fit(X_std)\n",
    "    X_dec = pca.fit_transform(X_std)\n",
    "    X_dec = pd.DataFrame(X_dec, columns=[f'component{i}' for i in range(n)])\n",
    "\n",
    "    X_dec_train2, X_dec_test2, y_train, y_test = train_test_split(X_dec, y, test_size=0.2, random_state=random_state)\n",
    "    \n",
    "    XGB_grid = GridSearchCV(estimator=xgb.XGBRegressor(random_state=random_state),\n",
    "                            param_grid=param_grid, \n",
    "                            verbose=0,\n",
    "                            cv=ShuffleSplit(n_splits=n_splits, random_state=random_state),\n",
    "                            #cv=n_splits\n",
    "                            )\n",
    "\n",
    "    XGB_grid.fit(X_dec_train2, y_train)\n",
    "    print(\"Best XGBRegressor-params:\", XGB_grid.best_params_)\n",
    "    \n",
    "    XGB_best = XGB_grid.best_estimator_\n",
    "    y_pred = XGB_best.predict(X_dec_test2)\n",
    "    \n",
    "    df_PCA_search.loc[n] = (r2_score(y_pred, y_test),\n",
    "                            MSE(y_pred, y_test), \n",
    "                            MAE(y_pred, y_test),\n",
    "                            MAPE(y_pred, y_test))\n",
    "\n",
    "elapsed_time = time.time() - start_time\n",
    "\n",
    "n = df_PCA_search.MAPE.idxmin()  # get optimal count component"
   ]
  },
  {
   "cell_type": "code",
   "execution_count": 20,
   "id": "90867186",
   "metadata": {},
   "outputs": [
    {
     "name": "stdout",
     "output_type": "stream",
     "text": [
      "PCA 11 components\n",
      "r2_score: 0.9948\n",
      "MSE: 1.722\n",
      "MAE: 0.4112\n",
      "MAPE: 3.94%\n"
     ]
    }
   ],
   "source": [
    "search_result.loc[f'XGB+PCA({n})'] = (r2_score(y_pred, y_test),\n",
    "                                      MSE(y_pred, y_test),\n",
    "                                      MAE(y_pred, y_test),\n",
    "                                      MAPE(y_pred, y_test),\n",
    "                                      elapsed_time/(len(ParameterGrid(param_grid))*n_splits*(11-5)))\n",
    "print(f'PCA {n} components',\n",
    "      f'r2_score: {df_PCA_search.loc[n].r2_score:.4}',\n",
    "      f'MSE: {df_PCA_search.loc[n].MSE:.4}',\n",
    "      f'MAE: {df_PCA_search.loc[n].MAE:.4}',\n",
    "      f'MAPE: {df_PCA_search.loc[n].MAPE:.2%}', sep='\\n')"
   ]
  },
  {
   "cell_type": "markdown",
   "id": "e8efdb1f",
   "metadata": {},
   "source": [
    "### SHAP"
   ]
  },
  {
   "cell_type": "code",
   "execution_count": 21,
   "id": "199fce06",
   "metadata": {},
   "outputs": [
    {
     "name": "stdout",
     "output_type": "stream",
     "text": [
      "Best XGBRegressor-params: {'gamma': 0.1, 'learning_rate': 0.2, 'max_depth': 5}\n",
      "CPU times: total: 3min 38s\n",
      "Wall time: 28 s\n"
     ]
    }
   ],
   "source": [
    "%%time\n",
    "\n",
    "X_train3 = X_train[SHAP_columns[:n]]\n",
    "X_test3 = X_test[SHAP_columns[:n]]\n",
    "\n",
    "start_time = time.time()\n",
    "XGB_grid = GridSearchCV(estimator=xgb.XGBRegressor(random_state=random_state),\n",
    "                        param_grid=param_grid,\n",
    "                        verbose=0,\n",
    "                        cv=ShuffleSplit(n_splits=n_splits, random_state=random_state),\n",
    "                        #cv=n_splits\n",
    "                        )\n",
    "\n",
    "XGB_grid.fit(X_train3, y_train)\n",
    "XGB_best = XGB_grid.best_estimator_\n",
    "y_pred = XGB_best.predict(X_test3)\n",
    "\n",
    "elapsed_time = time.time() - start_time\n",
    "\n",
    "print(\"Best XGBRegressor-params:\", XGB_grid.best_params_)"
   ]
  },
  {
   "cell_type": "code",
   "execution_count": 22,
   "id": "76d49030",
   "metadata": {
    "scrolled": false
   },
   "outputs": [
    {
     "name": "stdout",
     "output_type": "stream",
     "text": [
      "SHAP 11 feature\n",
      "r2_score: 0.9966\n",
      "MSE: 1.118\n",
      "MAE: 0.3834\n",
      "MAPE: 3.40%\n"
     ]
    }
   ],
   "source": [
    "search_result.loc[f'XGB+SHAP({X_train3.shape[1]})'] = (r2_score(y_pred, y_test),\n",
    "                                                       MSE(y_pred, y_test),\n",
    "                                                       MAE(y_pred, y_test),\n",
    "                                                       MAPE(y_pred, y_test),\n",
    "                                                       elapsed_time/(len(ParameterGrid(param_grid))*n_splits))\n",
    "print(f'SHAP {X_train3.shape[1]} feature',\n",
    "      f'r2_score: {r2_score(y_pred, y_test):.4}',\n",
    "      f'MSE: {MSE(y_pred, y_test):.4}',\n",
    "      f'MAE: {MAE(y_pred, y_test):.4}',\n",
    "      f'MAPE: {MAPE(y_pred, y_test):.2%}', sep='\\n')"
   ]
  },
  {
   "cell_type": "markdown",
   "id": "0e60ad90",
   "metadata": {},
   "source": [
    "### PI"
   ]
  },
  {
   "cell_type": "code",
   "execution_count": 23,
   "id": "db4890f0",
   "metadata": {},
   "outputs": [
    {
     "name": "stdout",
     "output_type": "stream",
     "text": [
      "Fitting 5 folds for each of 48 candidates, totalling 240 fits\n",
      "Best XGBRegressor-params: {'gamma': 0.1, 'learning_rate': 0.2, 'max_depth': 5}\n",
      "CPU times: total: 3min 37s\n",
      "Wall time: 28.3 s\n"
     ]
    }
   ],
   "source": [
    "%%time\n",
    "\n",
    "X_train4 = X_train[PI_columns[:n]]\n",
    "X_test4 = X_test[PI_columns[:n]]\n",
    "\n",
    "start_time = time.time()\n",
    "XGB_grid = GridSearchCV(estimator=xgb.XGBRegressor(random_state=random_state),\n",
    "                        param_grid=param_grid,\n",
    "                        verbose=1,\n",
    "                        cv=ShuffleSplit(n_splits=n_splits, random_state=random_state),\n",
    "                        #cv=n_splits\n",
    "                        )\n",
    "\n",
    "XGB_grid.fit(X_train4, y_train)\n",
    "XGB_best = XGB_grid.best_estimator_\n",
    "y_pred = XGB_best.predict(X_test4)\n",
    "\n",
    "elapsed_time = time.time() - start_time\n",
    "\n",
    "print(\"Best XGBRegressor-params:\", XGB_grid.best_params_)"
   ]
  },
  {
   "cell_type": "code",
   "execution_count": 24,
   "id": "16dc4cf7",
   "metadata": {
    "scrolled": false
   },
   "outputs": [
    {
     "name": "stdout",
     "output_type": "stream",
     "text": [
      "PI 11 feature\n",
      "r2_score: 0.9966\n",
      "MSE: 1.123\n",
      "MAE: 0.3841\n",
      "MAPE: 3.40%\n"
     ]
    }
   ],
   "source": [
    "search_result.loc[f'XGB+PI({X_train4.shape[1]})'] = (r2_score(y_pred, y_test),\n",
    "                                                    MSE(y_pred, y_test),\n",
    "                                                    MAE(y_pred, y_test),\n",
    "                                                    MAPE(y_pred, y_test),\n",
    "                                                    elapsed_time/(len(ParameterGrid(param_grid))*n_splits))\n",
    "print(f'PI {X_train4.shape[1]} feature',\n",
    "      f'r2_score: {r2_score(y_pred, y_test):.4}',\n",
    "      f'MSE: {MSE(y_pred, y_test):.4}',\n",
    "      f'MAE: {MAE(y_pred, y_test):.4}',\n",
    "      f'MAPE: {MAPE(y_pred, y_test):.2%}', sep='\\n')"
   ]
  },
  {
   "cell_type": "markdown",
   "id": "2e293ea9",
   "metadata": {},
   "source": [
    "### MDI"
   ]
  },
  {
   "cell_type": "code",
   "execution_count": 25,
   "id": "8e53d5fd",
   "metadata": {},
   "outputs": [
    {
     "name": "stdout",
     "output_type": "stream",
     "text": [
      "Best XGBRegressor-params: {'gamma': 0.1, 'learning_rate': 0.2, 'max_depth': 5}\n",
      "CPU times: total: 3min 33s\n",
      "Wall time: 27.3 s\n"
     ]
    }
   ],
   "source": [
    "%%time\n",
    "\n",
    "X_train5 = X_train[MDI_columns[:n]]\n",
    "X_test5 = X_test[MDI_columns[:n]]\n",
    "\n",
    "start_time = time.time()\n",
    "XGB_grid = GridSearchCV(estimator=xgb.XGBRegressor(random_state=random_state),\n",
    "                        param_grid=param_grid,\n",
    "                        verbose=0,\n",
    "                        cv=ShuffleSplit(n_splits=n_splits, random_state=random_state),\n",
    "                        #cv=n_splits\n",
    "                        )\n",
    "\n",
    "XGB_grid.fit(X_train5, y_train)\n",
    "XGB_best = XGB_grid.best_estimator_\n",
    "y_pred = XGB_best.predict(X_test5)\n",
    "\n",
    "elapsed_time = time.time() - start_time\n",
    "\n",
    "print(\"Best XGBRegressor-params:\", XGB_grid.best_params_)"
   ]
  },
  {
   "cell_type": "code",
   "execution_count": 26,
   "id": "b45fa722",
   "metadata": {
    "scrolled": false
   },
   "outputs": [
    {
     "name": "stdout",
     "output_type": "stream",
     "text": [
      "MDI 11 feature\n",
      "r2_score: 0.9956\n",
      "MSE: 1.429\n",
      "MAE: 0.4099\n",
      "MAPE: 3.54%\n"
     ]
    }
   ],
   "source": [
    "search_result.loc[f'XGB+MDI({X_train5.shape[1]})'] = (r2_score(y_pred, y_test),\n",
    "                                                      MSE(y_pred, y_test),\n",
    "                                                      MAE(y_pred, y_test),\n",
    "                                                      MAPE(y_pred, y_test),\n",
    "                                                      elapsed_time/(len(ParameterGrid(param_grid))*n_splits))\n",
    "print(f'MDI {X_train5.shape[1]} feature',\n",
    "      f'r2_score: {r2_score(y_pred, y_test):.4}',\n",
    "      f'MSE: {MSE(y_pred, y_test):.4}',\n",
    "      f'MAE: {MAE(y_pred, y_test):.4}',\n",
    "      f'MAPE: {MAPE(y_pred, y_test):.2%}', sep='\\n')"
   ]
  },
  {
   "cell_type": "markdown",
   "id": "5ab56d26",
   "metadata": {},
   "source": [
    "## Random forest"
   ]
  },
  {
   "cell_type": "code",
   "execution_count": 27,
   "id": "7c96fa1b",
   "metadata": {},
   "outputs": [],
   "source": [
    "# XGBRF GridSearchCV option\n",
    "n_splits=5"
   ]
  },
  {
   "cell_type": "markdown",
   "id": "f1a1f33d",
   "metadata": {},
   "source": [
    "### default (full set)"
   ]
  },
  {
   "cell_type": "code",
   "execution_count": null,
   "id": "491d7236",
   "metadata": {},
   "outputs": [],
   "source": []
  },
  {
   "cell_type": "markdown",
   "id": "75e9d329",
   "metadata": {},
   "source": [
    "### PCA"
   ]
  },
  {
   "cell_type": "code",
   "execution_count": null,
   "id": "d43488fb",
   "metadata": {},
   "outputs": [],
   "source": []
  },
  {
   "cell_type": "markdown",
   "id": "a259e1c5",
   "metadata": {},
   "source": [
    "# Result"
   ]
  },
  {
   "cell_type": "code",
   "execution_count": 29,
   "id": "e05c44de",
   "metadata": {},
   "outputs": [
    {
     "data": {
      "text/html": [
       "<style type=\"text/css\">\n",
       "#T_6fcf2_row0_col0, #T_6fcf2_row0_col4, #T_6fcf2_row1_col1, #T_6fcf2_row1_col2, #T_6fcf2_row1_col3 {\n",
       "  background-color: #a9373b;\n",
       "  color: #f1f1f1;\n",
       "}\n",
       "#T_6fcf2_row0_col1, #T_6fcf2_row0_col2, #T_6fcf2_row0_col3, #T_6fcf2_row1_col0, #T_6fcf2_row4_col4 {\n",
       "  background-color: #2369bd;\n",
       "  color: #f1f1f1;\n",
       "}\n",
       "#T_6fcf2_row1_col4 {\n",
       "  background-color: #859ec4;\n",
       "  color: #f1f1f1;\n",
       "}\n",
       "#T_6fcf2_row2_col0 {\n",
       "  background-color: #c77977;\n",
       "  color: #f1f1f1;\n",
       "}\n",
       "#T_6fcf2_row2_col1 {\n",
       "  background-color: #7997c1;\n",
       "  color: #f1f1f1;\n",
       "}\n",
       "#T_6fcf2_row2_col2 {\n",
       "  background-color: #d7a09d;\n",
       "  color: #000000;\n",
       "}\n",
       "#T_6fcf2_row2_col3, #T_6fcf2_row3_col3 {\n",
       "  background-color: #efdad8;\n",
       "  color: #000000;\n",
       "}\n",
       "#T_6fcf2_row2_col4 {\n",
       "  background-color: #4276bc;\n",
       "  color: #f1f1f1;\n",
       "}\n",
       "#T_6fcf2_row3_col0 {\n",
       "  background-color: #c87c7a;\n",
       "  color: #f1f1f1;\n",
       "}\n",
       "#T_6fcf2_row3_col1 {\n",
       "  background-color: #7d99c2;\n",
       "  color: #f1f1f1;\n",
       "}\n",
       "#T_6fcf2_row3_col2 {\n",
       "  background-color: #d59d9a;\n",
       "  color: #f1f1f1;\n",
       "}\n",
       "#T_6fcf2_row3_col4 {\n",
       "  background-color: #4879bc;\n",
       "  color: #f1f1f1;\n",
       "}\n",
       "#T_6fcf2_row4_col0 {\n",
       "  background-color: #d7dae4;\n",
       "  color: #000000;\n",
       "}\n",
       "#T_6fcf2_row4_col1 {\n",
       "  background-color: #ecd3d2;\n",
       "  color: #000000;\n",
       "}\n",
       "#T_6fcf2_row4_col2 {\n",
       "  background-color: #ab3c3f;\n",
       "  color: #f1f1f1;\n",
       "}\n",
       "#T_6fcf2_row4_col3 {\n",
       "  background-color: #dcaeab;\n",
       "  color: #000000;\n",
       "}\n",
       "</style>\n",
       "<table id=\"T_6fcf2\">\n",
       "  <thead>\n",
       "    <tr>\n",
       "      <th class=\"blank level0\" >&nbsp;</th>\n",
       "      <th id=\"T_6fcf2_level0_col0\" class=\"col_heading level0 col0\" >R2_score</th>\n",
       "      <th id=\"T_6fcf2_level0_col1\" class=\"col_heading level0 col1\" >MSE</th>\n",
       "      <th id=\"T_6fcf2_level0_col2\" class=\"col_heading level0 col2\" >MAE</th>\n",
       "      <th id=\"T_6fcf2_level0_col3\" class=\"col_heading level0 col3\" >MAPE</th>\n",
       "      <th id=\"T_6fcf2_level0_col4\" class=\"col_heading level0 col4\" >seconds</th>\n",
       "    </tr>\n",
       "  </thead>\n",
       "  <tbody>\n",
       "    <tr>\n",
       "      <th id=\"T_6fcf2_level0_row0\" class=\"row_heading level0 row0\" >XGB default</th>\n",
       "      <td id=\"T_6fcf2_row0_col0\" class=\"data row0 col0\" >0.99698</td>\n",
       "      <td id=\"T_6fcf2_row0_col1\" class=\"data row0 col1\" >0.9940</td>\n",
       "      <td id=\"T_6fcf2_row0_col2\" class=\"data row0 col2\" >0.309</td>\n",
       "      <td id=\"T_6fcf2_row0_col3\" class=\"data row0 col3\" >2.63%</td>\n",
       "      <td id=\"T_6fcf2_row0_col4\" class=\"data row0 col4\" >0.179379</td>\n",
       "    </tr>\n",
       "    <tr>\n",
       "      <th id=\"T_6fcf2_level0_row1\" class=\"row_heading level0 row1\" >XGB+PCA(11)</th>\n",
       "      <td id=\"T_6fcf2_row1_col0\" class=\"data row1 col0\" >0.99476</td>\n",
       "      <td id=\"T_6fcf2_row1_col1\" class=\"data row1 col1\" >1.7219</td>\n",
       "      <td id=\"T_6fcf2_row1_col2\" class=\"data row1 col2\" >0.411</td>\n",
       "      <td id=\"T_6fcf2_row1_col3\" class=\"data row1 col3\" >3.94%</td>\n",
       "      <td id=\"T_6fcf2_row1_col4\" class=\"data row1 col4\" >0.126611</td>\n",
       "    </tr>\n",
       "    <tr>\n",
       "      <th id=\"T_6fcf2_level0_row2\" class=\"row_heading level0 row2\" >XGB+SHAP(11)</th>\n",
       "      <td id=\"T_6fcf2_row2_col0\" class=\"data row2 col0\" >0.99660</td>\n",
       "      <td id=\"T_6fcf2_row2_col1\" class=\"data row2 col1\" >1.1180</td>\n",
       "      <td id=\"T_6fcf2_row2_col2\" class=\"data row2 col2\" >0.383</td>\n",
       "      <td id=\"T_6fcf2_row2_col3\" class=\"data row2 col3\" >3.40%</td>\n",
       "      <td id=\"T_6fcf2_row2_col4\" class=\"data row2 col4\" >0.116858</td>\n",
       "    </tr>\n",
       "    <tr>\n",
       "      <th id=\"T_6fcf2_level0_row3\" class=\"row_heading level0 row3\" >XGB+PI(11)</th>\n",
       "      <td id=\"T_6fcf2_row3_col0\" class=\"data row3 col0\" >0.99658</td>\n",
       "      <td id=\"T_6fcf2_row3_col1\" class=\"data row3 col1\" >1.1234</td>\n",
       "      <td id=\"T_6fcf2_row3_col2\" class=\"data row3 col2\" >0.384</td>\n",
       "      <td id=\"T_6fcf2_row3_col3\" class=\"data row3 col3\" >3.40%</td>\n",
       "      <td id=\"T_6fcf2_row3_col4\" class=\"data row3 col4\" >0.117702</td>\n",
       "    </tr>\n",
       "    <tr>\n",
       "      <th id=\"T_6fcf2_level0_row4\" class=\"row_heading level0 row4\" >XGB+MDI(11)</th>\n",
       "      <td id=\"T_6fcf2_row4_col0\" class=\"data row4 col0\" >0.99564</td>\n",
       "      <td id=\"T_6fcf2_row4_col1\" class=\"data row4 col1\" >1.4293</td>\n",
       "      <td id=\"T_6fcf2_row4_col2\" class=\"data row4 col2\" >0.410</td>\n",
       "      <td id=\"T_6fcf2_row4_col3\" class=\"data row4 col3\" >3.54%</td>\n",
       "      <td id=\"T_6fcf2_row4_col4\" class=\"data row4 col4\" >0.113655</td>\n",
       "    </tr>\n",
       "  </tbody>\n",
       "</table>\n"
      ],
      "text/plain": [
       "<pandas.io.formats.style.Styler at 0x237a1270220>"
      ]
     },
     "execution_count": 29,
     "metadata": {},
     "output_type": "execute_result"
    }
   ],
   "source": [
    "df_search_result = search_result.copy()\n",
    "\n",
    "df_search_result = df_search_result.style.format({'R2_score': '{:.5f}', \n",
    "                                                  'MSE': '{:.4f}', \n",
    "                                                  'MAE': '{:.3f}',\n",
    "                                                  'MAPE': '{:.2%}',\n",
    "                                                  'seconds': '{:.6f}'\n",
    "                                                 }).background_gradient(cmap=sns.color_palette(\"vlag\", as_cmap=True))\n",
    "\n",
    "#pd.set_option('display.float_format', lambda x: '%.6f' % x)\n",
    "search_result.to_excel('search_result.xlsx', index=True)\n",
    "\n",
    "df_search_result"
   ]
  }
 ],
 "metadata": {
  "kernelspec": {
   "display_name": "Python 3 (ipykernel)",
   "language": "python",
   "name": "python3"
  },
  "language_info": {
   "codemirror_mode": {
    "name": "ipython",
    "version": 3
   },
   "file_extension": ".py",
   "mimetype": "text/x-python",
   "name": "python",
   "nbconvert_exporter": "python",
   "pygments_lexer": "ipython3",
   "version": "3.10.7"
  },
  "toc": {
   "base_numbering": 1,
   "nav_menu": {},
   "number_sections": true,
   "sideBar": true,
   "skip_h1_title": false,
   "title_cell": "Table of Contents",
   "title_sidebar": "Contents",
   "toc_cell": false,
   "toc_position": {
    "height": "calc(100% - 180px)",
    "left": "10px",
    "top": "150px",
    "width": "322.663px"
   },
   "toc_section_display": true,
   "toc_window_display": true
  }
 },
 "nbformat": 4,
 "nbformat_minor": 5
}
