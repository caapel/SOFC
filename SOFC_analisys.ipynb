{
 "cells": [
  {
   "cell_type": "markdown",
   "id": "e88c8b5c",
   "metadata": {},
   "source": [
    "# Resources used"
   ]
  },
  {
   "cell_type": "code",
   "execution_count": 1,
   "id": "23cce2d6",
   "metadata": {},
   "outputs": [],
   "source": [
    "import shap\n",
    "import numpy as np\n",
    "import pandas as pd\n",
    "import seaborn as sns\n",
    "import matplotlib\n",
    "import matplotlib.pyplot as plt\n",
    "import yellowbrick\n",
    "from yellowbrick.model_selection import LearningCurve\n",
    "from datetime import datetime\n",
    "\n",
    "from sklearn.decomposition import PCA\n",
    "from sklearn.preprocessing import StandardScaler\n",
    "from sklearn.inspection import permutation_importance\n",
    "from sklearn.model_selection import train_test_split\n",
    "from sklearn.model_selection import ShuffleSplit, GridSearchCV\n",
    "\n",
    "import sklearn\n",
    "import xgboost as xgb\n",
    "from sklearn.svm import SVR\n",
    "from sklearn.neural_network import MLPRegressor\n",
    "\n",
    "from sklearn.metrics import r2_score\n",
    "from sklearn.metrics import mean_squared_error as MSE\n",
    "from sklearn.metrics import mean_absolute_error as MAE\n",
    "from sklearn.metrics import mean_absolute_percentage_error as MAPE"
   ]
  },
  {
   "cell_type": "code",
   "execution_count": 2,
   "id": "c8721af4",
   "metadata": {},
   "outputs": [
    {
     "name": "stdout",
     "output_type": "stream",
     "text": [
      "shap: v 0.47.0\n",
      "numpy: v 1.25.2\n",
      "pandas: v 2.2.3\n",
      "seaborn: v 0.13.2\n",
      "matplotlib: v 3.6.2\n",
      "yellowbrick: v 1.5\n",
      "sklearn: v 1.4.2\n",
      "XGBoost: v 2.1.2\n"
     ]
    }
   ],
   "source": [
    "print(f\"shap: v {shap.__version__}\")\n",
    "print(f\"numpy: v {np.__version__}\")\n",
    "print(f\"pandas: v {pd.__version__}\")\n",
    "print(f\"seaborn: v {sns.__version__}\")\n",
    "print(f\"matplotlib: v {matplotlib.__version__}\")\n",
    "print(f\"yellowbrick: v {yellowbrick.__version__}\")\n",
    "print(f\"sklearn: v {sklearn.__version__}\")\n",
    "print(f\"XGBoost: v {xgb.__version__}\")\n",
    "\n",
    "plt.rcParams['font.family'] = 'Palatino Linotype'\n",
    "plt.rcParams['font.size'] = 12"
   ]
  },
  {
   "cell_type": "markdown",
   "id": "b438f1ff",
   "metadata": {},
   "source": [
    "# Exploratory data analisys"
   ]
  },
  {
   "cell_type": "markdown",
   "id": "be060886",
   "metadata": {},
   "source": [
    "## Data collection"
   ]
  },
  {
   "cell_type": "code",
   "execution_count": 3,
   "id": "3fd27ef2",
   "metadata": {},
   "outputs": [
    {
     "name": "stdout",
     "output_type": "stream",
     "text": [
      "<class 'pandas.core.frame.DataFrame'>\n",
      "DatetimeIndex: 14427 entries, 2024-04-23 19:20:09 to 2025-02-14 22:20:00\n",
      "Data columns (total 26 columns):\n",
      " #   Column     Non-Null Count  Dtype  \n",
      "---  ------     --------------  -----  \n",
      " 0   impl_spd2  14427 non-null  float64\n",
      " 1   I          14427 non-null  float64\n",
      " 2   pump_spd   14427 non-null  float64\n",
      " 3   W          14427 non-null  float64\n",
      " 4   Q_CH4      14427 non-null  float64\n",
      " 5   impl_spd1  14427 non-null  float64\n",
      " 6   Q_CH4_N2   14427 non-null  float64\n",
      " 7   P_NG       14427 non-null  float64\n",
      " 8   T3         14427 non-null  float64\n",
      " 9   T5         14427 non-null  float64\n",
      " 10  T7         14427 non-null  float64\n",
      " 11  T9         14427 non-null  float64\n",
      " 12  T12        14427 non-null  float64\n",
      " 13  T16        14427 non-null  float64\n",
      " 14  T17        14427 non-null  float64\n",
      " 15  T19        14427 non-null  float64\n",
      " 16  T20        14427 non-null  float64\n",
      " 17  T21        14427 non-null  float64\n",
      " 18  T22        14427 non-null  float64\n",
      " 19  T23        14427 non-null  float64\n",
      " 20  T25        14427 non-null  float64\n",
      " 21  T27        14427 non-null  float64\n",
      " 22  T30        14427 non-null  float64\n",
      " 23  T31        14427 non-null  float64\n",
      " 24  O2         14427 non-null  float64\n",
      " 25  V          14427 non-null  float64\n",
      "dtypes: float64(26)\n",
      "memory usage: 3.0 MB\n",
      "None\n"
     ]
    },
    {
     "data": {
      "text/html": [
       "<div>\n",
       "<style scoped>\n",
       "    .dataframe tbody tr th:only-of-type {\n",
       "        vertical-align: middle;\n",
       "    }\n",
       "\n",
       "    .dataframe tbody tr th {\n",
       "        vertical-align: top;\n",
       "    }\n",
       "\n",
       "    .dataframe thead th {\n",
       "        text-align: right;\n",
       "    }\n",
       "</style>\n",
       "<table border=\"1\" class=\"dataframe\">\n",
       "  <thead>\n",
       "    <tr style=\"text-align: right;\">\n",
       "      <th></th>\n",
       "      <th>impl_spd2</th>\n",
       "      <th>I</th>\n",
       "      <th>pump_spd</th>\n",
       "      <th>W</th>\n",
       "      <th>Q_CH4</th>\n",
       "      <th>impl_spd1</th>\n",
       "      <th>Q_CH4_N2</th>\n",
       "      <th>P_NG</th>\n",
       "      <th>T3</th>\n",
       "      <th>T5</th>\n",
       "      <th>...</th>\n",
       "      <th>T20</th>\n",
       "      <th>T21</th>\n",
       "      <th>T22</th>\n",
       "      <th>T23</th>\n",
       "      <th>T25</th>\n",
       "      <th>T27</th>\n",
       "      <th>T30</th>\n",
       "      <th>T31</th>\n",
       "      <th>O2</th>\n",
       "      <th>V</th>\n",
       "    </tr>\n",
       "    <tr>\n",
       "      <th>MCGS_TIME</th>\n",
       "      <th></th>\n",
       "      <th></th>\n",
       "      <th></th>\n",
       "      <th></th>\n",
       "      <th></th>\n",
       "      <th></th>\n",
       "      <th></th>\n",
       "      <th></th>\n",
       "      <th></th>\n",
       "      <th></th>\n",
       "      <th></th>\n",
       "      <th></th>\n",
       "      <th></th>\n",
       "      <th></th>\n",
       "      <th></th>\n",
       "      <th></th>\n",
       "      <th></th>\n",
       "      <th></th>\n",
       "      <th></th>\n",
       "      <th></th>\n",
       "      <th></th>\n",
       "    </tr>\n",
       "  </thead>\n",
       "  <tbody>\n",
       "    <tr>\n",
       "      <th>2024-04-25 17:09:57</th>\n",
       "      <td>11.000004</td>\n",
       "      <td>0.00</td>\n",
       "      <td>20.0</td>\n",
       "      <td>0.000</td>\n",
       "      <td>1.915943</td>\n",
       "      <td>6.0</td>\n",
       "      <td>5.971296</td>\n",
       "      <td>0.012215</td>\n",
       "      <td>874.949982</td>\n",
       "      <td>552.900024</td>\n",
       "      <td>...</td>\n",
       "      <td>667.599976</td>\n",
       "      <td>684.299988</td>\n",
       "      <td>618.700012</td>\n",
       "      <td>569.799988</td>\n",
       "      <td>630.149994</td>\n",
       "      <td>677.850006</td>\n",
       "      <td>66.199997</td>\n",
       "      <td>52.599998</td>\n",
       "      <td>12.0000</td>\n",
       "      <td>40.500000</td>\n",
       "    </tr>\n",
       "    <tr>\n",
       "      <th>2024-04-25 17:10:27</th>\n",
       "      <td>11.000004</td>\n",
       "      <td>0.03</td>\n",
       "      <td>20.0</td>\n",
       "      <td>1.218</td>\n",
       "      <td>1.797853</td>\n",
       "      <td>6.0</td>\n",
       "      <td>5.969877</td>\n",
       "      <td>0.012210</td>\n",
       "      <td>888.649994</td>\n",
       "      <td>552.799988</td>\n",
       "      <td>...</td>\n",
       "      <td>668.099976</td>\n",
       "      <td>684.299988</td>\n",
       "      <td>618.599976</td>\n",
       "      <td>570.349976</td>\n",
       "      <td>632.100006</td>\n",
       "      <td>682.500000</td>\n",
       "      <td>66.099998</td>\n",
       "      <td>52.599998</td>\n",
       "      <td>10.9375</td>\n",
       "      <td>40.599998</td>\n",
       "    </tr>\n",
       "    <tr>\n",
       "      <th>2024-04-25 17:10:57</th>\n",
       "      <td>11.000004</td>\n",
       "      <td>0.03</td>\n",
       "      <td>20.0</td>\n",
       "      <td>1.221</td>\n",
       "      <td>0.000099</td>\n",
       "      <td>6.0</td>\n",
       "      <td>6.114091</td>\n",
       "      <td>0.013080</td>\n",
       "      <td>829.799988</td>\n",
       "      <td>552.799988</td>\n",
       "      <td>...</td>\n",
       "      <td>668.900024</td>\n",
       "      <td>684.299988</td>\n",
       "      <td>618.599976</td>\n",
       "      <td>570.750000</td>\n",
       "      <td>634.450012</td>\n",
       "      <td>686.800018</td>\n",
       "      <td>66.000000</td>\n",
       "      <td>52.599998</td>\n",
       "      <td>11.0000</td>\n",
       "      <td>40.700001</td>\n",
       "    </tr>\n",
       "    <tr>\n",
       "      <th>2024-04-25 17:11:27</th>\n",
       "      <td>11.000004</td>\n",
       "      <td>0.03</td>\n",
       "      <td>20.0</td>\n",
       "      <td>1.218</td>\n",
       "      <td>0.000099</td>\n",
       "      <td>6.0</td>\n",
       "      <td>6.180676</td>\n",
       "      <td>0.013943</td>\n",
       "      <td>791.750000</td>\n",
       "      <td>552.799988</td>\n",
       "      <td>...</td>\n",
       "      <td>669.599976</td>\n",
       "      <td>684.299988</td>\n",
       "      <td>618.599976</td>\n",
       "      <td>570.899994</td>\n",
       "      <td>636.500000</td>\n",
       "      <td>688.549988</td>\n",
       "      <td>66.000000</td>\n",
       "      <td>52.599998</td>\n",
       "      <td>12.8125</td>\n",
       "      <td>40.599998</td>\n",
       "    </tr>\n",
       "    <tr>\n",
       "      <th>2024-04-25 17:11:57</th>\n",
       "      <td>11.000004</td>\n",
       "      <td>0.03</td>\n",
       "      <td>20.0</td>\n",
       "      <td>1.212</td>\n",
       "      <td>0.000099</td>\n",
       "      <td>6.0</td>\n",
       "      <td>5.873411</td>\n",
       "      <td>0.013312</td>\n",
       "      <td>780.850006</td>\n",
       "      <td>552.799988</td>\n",
       "      <td>...</td>\n",
       "      <td>670.299988</td>\n",
       "      <td>684.299988</td>\n",
       "      <td>618.700012</td>\n",
       "      <td>570.950012</td>\n",
       "      <td>637.199982</td>\n",
       "      <td>688.299988</td>\n",
       "      <td>66.000000</td>\n",
       "      <td>52.599998</td>\n",
       "      <td>13.4375</td>\n",
       "      <td>40.400002</td>\n",
       "    </tr>\n",
       "    <tr>\n",
       "      <th>2024-04-25 17:12:27</th>\n",
       "      <td>11.000004</td>\n",
       "      <td>0.03</td>\n",
       "      <td>20.0</td>\n",
       "      <td>1.218</td>\n",
       "      <td>0.000099</td>\n",
       "      <td>6.0</td>\n",
       "      <td>6.007771</td>\n",
       "      <td>0.013530</td>\n",
       "      <td>774.299988</td>\n",
       "      <td>552.799988</td>\n",
       "      <td>...</td>\n",
       "      <td>670.700012</td>\n",
       "      <td>684.299988</td>\n",
       "      <td>618.799988</td>\n",
       "      <td>570.750000</td>\n",
       "      <td>637.299988</td>\n",
       "      <td>687.399994</td>\n",
       "      <td>65.900002</td>\n",
       "      <td>52.599998</td>\n",
       "      <td>13.7500</td>\n",
       "      <td>40.599998</td>\n",
       "    </tr>\n",
       "    <tr>\n",
       "      <th>2024-04-25 17:12:57</th>\n",
       "      <td>11.000004</td>\n",
       "      <td>0.03</td>\n",
       "      <td>20.0</td>\n",
       "      <td>1.215</td>\n",
       "      <td>0.000099</td>\n",
       "      <td>6.0</td>\n",
       "      <td>5.960526</td>\n",
       "      <td>0.013125</td>\n",
       "      <td>771.300018</td>\n",
       "      <td>552.900024</td>\n",
       "      <td>...</td>\n",
       "      <td>670.900024</td>\n",
       "      <td>684.299988</td>\n",
       "      <td>619.000000</td>\n",
       "      <td>570.750000</td>\n",
       "      <td>636.950012</td>\n",
       "      <td>686.350006</td>\n",
       "      <td>65.900002</td>\n",
       "      <td>52.599998</td>\n",
       "      <td>13.8750</td>\n",
       "      <td>40.500000</td>\n",
       "    </tr>\n",
       "    <tr>\n",
       "      <th>2024-04-25 17:13:27</th>\n",
       "      <td>11.000004</td>\n",
       "      <td>0.03</td>\n",
       "      <td>20.0</td>\n",
       "      <td>1.215</td>\n",
       "      <td>0.000099</td>\n",
       "      <td>6.0</td>\n",
       "      <td>6.058997</td>\n",
       "      <td>0.013146</td>\n",
       "      <td>769.399994</td>\n",
       "      <td>552.799988</td>\n",
       "      <td>...</td>\n",
       "      <td>670.900024</td>\n",
       "      <td>684.299988</td>\n",
       "      <td>619.099976</td>\n",
       "      <td>570.549988</td>\n",
       "      <td>636.449982</td>\n",
       "      <td>685.350006</td>\n",
       "      <td>65.900002</td>\n",
       "      <td>52.500000</td>\n",
       "      <td>14.0000</td>\n",
       "      <td>40.500000</td>\n",
       "    </tr>\n",
       "    <tr>\n",
       "      <th>2024-04-25 17:13:57</th>\n",
       "      <td>11.000004</td>\n",
       "      <td>0.03</td>\n",
       "      <td>20.0</td>\n",
       "      <td>1.080</td>\n",
       "      <td>0.000099</td>\n",
       "      <td>6.0</td>\n",
       "      <td>5.957923</td>\n",
       "      <td>0.013148</td>\n",
       "      <td>766.700012</td>\n",
       "      <td>552.799988</td>\n",
       "      <td>...</td>\n",
       "      <td>670.900024</td>\n",
       "      <td>684.299988</td>\n",
       "      <td>619.299988</td>\n",
       "      <td>570.450012</td>\n",
       "      <td>635.899994</td>\n",
       "      <td>684.549988</td>\n",
       "      <td>65.900002</td>\n",
       "      <td>52.500000</td>\n",
       "      <td>14.0000</td>\n",
       "      <td>36.000000</td>\n",
       "    </tr>\n",
       "    <tr>\n",
       "      <th>2024-04-25 17:14:27</th>\n",
       "      <td>11.000004</td>\n",
       "      <td>0.00</td>\n",
       "      <td>20.0</td>\n",
       "      <td>0.000</td>\n",
       "      <td>0.000099</td>\n",
       "      <td>6.0</td>\n",
       "      <td>5.943840</td>\n",
       "      <td>0.013314</td>\n",
       "      <td>755.299988</td>\n",
       "      <td>552.700012</td>\n",
       "      <td>...</td>\n",
       "      <td>670.700012</td>\n",
       "      <td>684.299988</td>\n",
       "      <td>619.500000</td>\n",
       "      <td>569.600006</td>\n",
       "      <td>635.049988</td>\n",
       "      <td>683.500000</td>\n",
       "      <td>65.800003</td>\n",
       "      <td>52.500000</td>\n",
       "      <td>13.9375</td>\n",
       "      <td>37.099998</td>\n",
       "    </tr>\n",
       "  </tbody>\n",
       "</table>\n",
       "<p>10 rows × 26 columns</p>\n",
       "</div>"
      ],
      "text/plain": [
       "                     impl_spd2     I  pump_spd      W     Q_CH4  impl_spd1  \\\n",
       "MCGS_TIME                                                                    \n",
       "2024-04-25 17:09:57  11.000004  0.00      20.0  0.000  1.915943        6.0   \n",
       "2024-04-25 17:10:27  11.000004  0.03      20.0  1.218  1.797853        6.0   \n",
       "2024-04-25 17:10:57  11.000004  0.03      20.0  1.221  0.000099        6.0   \n",
       "2024-04-25 17:11:27  11.000004  0.03      20.0  1.218  0.000099        6.0   \n",
       "2024-04-25 17:11:57  11.000004  0.03      20.0  1.212  0.000099        6.0   \n",
       "2024-04-25 17:12:27  11.000004  0.03      20.0  1.218  0.000099        6.0   \n",
       "2024-04-25 17:12:57  11.000004  0.03      20.0  1.215  0.000099        6.0   \n",
       "2024-04-25 17:13:27  11.000004  0.03      20.0  1.215  0.000099        6.0   \n",
       "2024-04-25 17:13:57  11.000004  0.03      20.0  1.080  0.000099        6.0   \n",
       "2024-04-25 17:14:27  11.000004  0.00      20.0  0.000  0.000099        6.0   \n",
       "\n",
       "                     Q_CH4_N2      P_NG          T3          T5  ...  \\\n",
       "MCGS_TIME                                                        ...   \n",
       "2024-04-25 17:09:57  5.971296  0.012215  874.949982  552.900024  ...   \n",
       "2024-04-25 17:10:27  5.969877  0.012210  888.649994  552.799988  ...   \n",
       "2024-04-25 17:10:57  6.114091  0.013080  829.799988  552.799988  ...   \n",
       "2024-04-25 17:11:27  6.180676  0.013943  791.750000  552.799988  ...   \n",
       "2024-04-25 17:11:57  5.873411  0.013312  780.850006  552.799988  ...   \n",
       "2024-04-25 17:12:27  6.007771  0.013530  774.299988  552.799988  ...   \n",
       "2024-04-25 17:12:57  5.960526  0.013125  771.300018  552.900024  ...   \n",
       "2024-04-25 17:13:27  6.058997  0.013146  769.399994  552.799988  ...   \n",
       "2024-04-25 17:13:57  5.957923  0.013148  766.700012  552.799988  ...   \n",
       "2024-04-25 17:14:27  5.943840  0.013314  755.299988  552.700012  ...   \n",
       "\n",
       "                            T20         T21         T22         T23  \\\n",
       "MCGS_TIME                                                             \n",
       "2024-04-25 17:09:57  667.599976  684.299988  618.700012  569.799988   \n",
       "2024-04-25 17:10:27  668.099976  684.299988  618.599976  570.349976   \n",
       "2024-04-25 17:10:57  668.900024  684.299988  618.599976  570.750000   \n",
       "2024-04-25 17:11:27  669.599976  684.299988  618.599976  570.899994   \n",
       "2024-04-25 17:11:57  670.299988  684.299988  618.700012  570.950012   \n",
       "2024-04-25 17:12:27  670.700012  684.299988  618.799988  570.750000   \n",
       "2024-04-25 17:12:57  670.900024  684.299988  619.000000  570.750000   \n",
       "2024-04-25 17:13:27  670.900024  684.299988  619.099976  570.549988   \n",
       "2024-04-25 17:13:57  670.900024  684.299988  619.299988  570.450012   \n",
       "2024-04-25 17:14:27  670.700012  684.299988  619.500000  569.600006   \n",
       "\n",
       "                            T25         T27        T30        T31       O2  \\\n",
       "MCGS_TIME                                                                    \n",
       "2024-04-25 17:09:57  630.149994  677.850006  66.199997  52.599998  12.0000   \n",
       "2024-04-25 17:10:27  632.100006  682.500000  66.099998  52.599998  10.9375   \n",
       "2024-04-25 17:10:57  634.450012  686.800018  66.000000  52.599998  11.0000   \n",
       "2024-04-25 17:11:27  636.500000  688.549988  66.000000  52.599998  12.8125   \n",
       "2024-04-25 17:11:57  637.199982  688.299988  66.000000  52.599998  13.4375   \n",
       "2024-04-25 17:12:27  637.299988  687.399994  65.900002  52.599998  13.7500   \n",
       "2024-04-25 17:12:57  636.950012  686.350006  65.900002  52.599998  13.8750   \n",
       "2024-04-25 17:13:27  636.449982  685.350006  65.900002  52.500000  14.0000   \n",
       "2024-04-25 17:13:57  635.899994  684.549988  65.900002  52.500000  14.0000   \n",
       "2024-04-25 17:14:27  635.049988  683.500000  65.800003  52.500000  13.9375   \n",
       "\n",
       "                             V  \n",
       "MCGS_TIME                       \n",
       "2024-04-25 17:09:57  40.500000  \n",
       "2024-04-25 17:10:27  40.599998  \n",
       "2024-04-25 17:10:57  40.700001  \n",
       "2024-04-25 17:11:27  40.599998  \n",
       "2024-04-25 17:11:57  40.400002  \n",
       "2024-04-25 17:12:27  40.599998  \n",
       "2024-04-25 17:12:57  40.500000  \n",
       "2024-04-25 17:13:27  40.500000  \n",
       "2024-04-25 17:13:57  36.000000  \n",
       "2024-04-25 17:14:27  37.099998  \n",
       "\n",
       "[10 rows x 26 columns]"
      ]
     },
     "execution_count": 3,
     "metadata": {},
     "output_type": "execute_result"
    }
   ],
   "source": [
    "df = pd.read_csv('数据时间导出.csv')  # 47 features\n",
    "df = df.rename(columns={'VD0000':'impl_spd2',  # Main fan speed [rps]\n",
    "                        'VD0008':'pump_spd',  # Peristaltic pump rotation speed [rps]\n",
    "                        'VD0012':'I',  # Current [A]\n",
    "                        'VD0016':'V',  # Voltage [V]\n",
    "                        'VD0020':'W',  # Power [Wt]\n",
    "                        'VD0028':'Q_CH4',  # CH4 flow rate [m3/h]\n",
    "                        'VD0032':'impl_spd1',  # Cooling fan speed [rps]\n",
    "                        'VD0036':'Q_CH4_N2',  #CH4/N2 flow rate [m3/h]\n",
    "                        'VD0040':'P_NG',  # Differential natural gas pressure [bar]\n",
    "                        'VD44':'O2',  # Inlet air oxygen concentration [%]\n",
    "                        'VD208':'T3',  # bottom of the burner temperature [°C]\n",
    "                        'VD212':'T4',  # top of the burner temperature [°C]\n",
    "                        'VD216':'T5',  # inlet of the reformer temperature [°C]\n",
    "                        'VD224':'T7',  # exhaust gases from the SOFC temperature [°C]\n",
    "                        'VD232':'T9',  # heat exchanger temperature [°C]\n",
    "                        'VD244':'T12',  # water temperature for steam reforming [°C]\n",
    "                        'VD260':'T16',  # left front point of the SOFC temperature [°C]\n",
    "                        'VD264':'T17',  # right rear point of the SOFC temperature [°C]\n",
    "                        'VD272':'T19',  # air at the inlet of the SOFC temperature [°C]\n",
    "                        'VD276':'T20',  # hydrogen at the inlet of the SOFC temperature [°C]\n",
    "                        'VD280':'T21',  # air at the outlet of the SOFC temperature [°C]\n",
    "                        'VD284':'T22',  # hydrogen at the outlet of the SOFC temperature [°C]\n",
    "                        'VD288':'T23',  # top rear point of the reformer temperature [°C]\n",
    "                        'VD292':'T24',  # bottom rear point of the reformer temperature [°C]\n",
    "                        'VD296':'T25',  # top left point of the reformer temperature [°C]\n",
    "                        'VD300':'T26',  # bottom left point of the reformer temperature [°C]\n",
    "                        'VD304':'T27',  # top right point of the reformer temperature [°C]\n",
    "                        'VD308':'T28',  # bottom right point of the reformer temperature [°C]\n",
    "                        'VD316':'T30',  # cooling water temperature [°C]\n",
    "                        'VD320':'T31'})  # water tank temperature [°C]\n",
    "\n",
    "df.MCGS_TIME = pd.to_datetime(df.MCGS_TIME)\n",
    "df = df.set_index('MCGS_TIME')\n",
    "df = df.drop(columns=['MCGS_TIMEMS', 'VD48', 'VD0004', 'VD0024'])  # drop 4 useless features\n",
    "df = df[df.columns[(abs(df.mean()-3000)>0.1)]]  # filtering 12 incorrect sensor readings\n",
    "df = df[df.T17 != 3000]  # remove 92 lines with incorrect T17-value\n",
    "df = df[df.V != 0]  # remove 18324 lines with zero target feature\n",
    "\n",
    "# combine similar features (-4)\n",
    "df.T3 = df[['T3', 'T4']].mean(axis=1)\n",
    "df.T23 = df[['T23', 'T24']].mean(axis=1)\n",
    "df.T25 = df[['T25', 'T26']].mean(axis=1)\n",
    "df.T27 = df[['T27', 'T28']].mean(axis=1)\n",
    "df = df.drop(columns=['T4', 'T24', 'T26', 'T28'])\n",
    "\n",
    "# move the voltage to the end position (for correlation matrix)\n",
    "V = df.V\n",
    "df = df.drop('V', axis=1)\n",
    "df['V'] = V\n",
    "\n",
    "df.to_excel(f'DATA.xlsx')\n",
    "\n",
    "print(df.info())\n",
    "df.iloc[5480:5490, :]"
   ]
  },
  {
   "cell_type": "markdown",
   "id": "b7f265a1",
   "metadata": {},
   "source": [
    "## Correlation matrix of initial features"
   ]
  },
  {
   "cell_type": "code",
   "execution_count": 8,
   "id": "d89d0574",
   "metadata": {},
   "outputs": [
    {
     "data": {
      "image/png": "[encoded data removed]",
      "text/plain": [
       "<Figure size 900x800 with 2 Axes>"
      ]
     },
     "metadata": {},
     "output_type": "display_data"
    }
   ],
   "source": [
    "df_corr = df.corr('pearson')\n",
    "\n",
    "# Let's sort column B by correlation strength (absolute value)\n",
    "df_corr.sort_values(by='V', axis='columns', ascending=False, inplace=True, key=lambda col: abs(col))\n",
    "\n",
    "# Generate a mask for the upper triangle\n",
    "mask = np.triu(np.ones_like(df_corr, dtype=bool))\n",
    "\n",
    "# Set up the matplotlib figure\n",
    "fig, ax = plt.subplots(figsize=(9, 8))\n",
    "\n",
    "# Draw the heatmap with the mask and correct aspect ratio\n",
    "sns.heatmap(df_corr, \n",
    "            #annot=True, \n",
    "            mask=mask, \n",
    "            cmap=sns.color_palette(\"vlag\", as_cmap=True), \n",
    "            fmt=\".3f\", \n",
    "            vmax=1.0, \n",
    "            vmin=-1.0, \n",
    "            center=0,\n",
    "            square=True, \n",
    "            linewidths=1, \n",
    "            cbar_kws={\"shrink\": .8}).set(title='Pearson correlation matrix of initial features')\n",
    "\n",
    "plt.savefig('pictures/full_corr_matrix.png', dpi = 300, transparent = True)\n",
    "#df_corr.style.background_gradient(cmap=sns.color_palette(\"vlag\", as_cmap=True), vmin = -1, vmax=1)  # output table-factor"
   ]
  },
  {
   "cell_type": "markdown",
   "id": "a97e0370",
   "metadata": {},
   "source": [
    "## Data preprocessing"
   ]
  },
  {
   "cell_type": "code",
   "execution_count": 10,
   "id": "e2289164",
   "metadata": {
    "scrolled": true
   },
   "outputs": [],
   "source": [
    "X = df.drop(columns='V').copy()  # input feature\n",
    "y = df.V.copy()  # target feature (Voltage [V])\n",
    "\n",
    "# Standardization of input feature general set \n",
    "scaler = StandardScaler()\n",
    "X_std = scaler.fit_transform(X)\n",
    "X_std = pd.DataFrame(X_std, columns=X.columns)\n",
    "\n",
    "# Spliting data into train and test sets\n",
    "X_train, X_test, y_train, y_test = train_test_split(X_std, y, test_size=0.2, random_state=42)"
   ]
  },
  {
   "cell_type": "markdown",
   "id": "d702161d",
   "metadata": {},
   "source": [
    "## Feature important"
   ]
  },
  {
   "cell_type": "code",
   "execution_count": 57,
   "id": "626eaaf7",
   "metadata": {},
   "outputs": [],
   "source": [
    "objective='reg:squaredlogerror'\n",
    "n = 10  # desired count of components"
   ]
  },
  {
   "cell_type": "markdown",
   "id": "c422be92",
   "metadata": {},
   "source": [
    "перерисовать графики feature importance (Box plot)"
   ]
  },
  {
   "cell_type": "markdown",
   "id": "a0176a4f",
   "metadata": {},
   "source": [
    "### XGBoost features importance (MDI)"
   ]
  },
  {
   "cell_type": "code",
   "execution_count": 58,
   "id": "8a286e2f",
   "metadata": {},
   "outputs": [
    {
     "data": {
      "image/png": "[encoded data removed]",
      "text/plain": [
       "<Figure size 700x500 with 1 Axes>"
      ]
     },
     "metadata": {},
     "output_type": "display_data"
    },
    {
     "data": {
      "text/html": [
       "<div>\n",
       "<style scoped>\n",
       "    .dataframe tbody tr th:only-of-type {\n",
       "        vertical-align: middle;\n",
       "    }\n",
       "\n",
       "    .dataframe tbody tr th {\n",
       "        vertical-align: top;\n",
       "    }\n",
       "\n",
       "    .dataframe thead th {\n",
       "        text-align: right;\n",
       "    }\n",
       "</style>\n",
       "<table border=\"1\" class=\"dataframe\">\n",
       "  <thead>\n",
       "    <tr style=\"text-align: right;\">\n",
       "      <th></th>\n",
       "      <th>importance</th>\n",
       "    </tr>\n",
       "  </thead>\n",
       "  <tbody>\n",
       "    <tr>\n",
       "      <th>pump_spd</th>\n",
       "      <td>0.002022</td>\n",
       "    </tr>\n",
       "    <tr>\n",
       "      <th>O2</th>\n",
       "      <td>0.002240</td>\n",
       "    </tr>\n",
       "    <tr>\n",
       "      <th>T5</th>\n",
       "      <td>0.002737</td>\n",
       "    </tr>\n",
       "    <tr>\n",
       "      <th>Q_CH4</th>\n",
       "      <td>0.002756</td>\n",
       "    </tr>\n",
       "    <tr>\n",
       "      <th>impl_spd1</th>\n",
       "      <td>0.002952</td>\n",
       "    </tr>\n",
       "    <tr>\n",
       "      <th>T31</th>\n",
       "      <td>0.003354</td>\n",
       "    </tr>\n",
       "    <tr>\n",
       "      <th>T9</th>\n",
       "      <td>0.008812</td>\n",
       "    </tr>\n",
       "    <tr>\n",
       "      <th>T20</th>\n",
       "      <td>0.013796</td>\n",
       "    </tr>\n",
       "    <tr>\n",
       "      <th>T21</th>\n",
       "      <td>0.338410</td>\n",
       "    </tr>\n",
       "    <tr>\n",
       "      <th>T17</th>\n",
       "      <td>0.615026</td>\n",
       "    </tr>\n",
       "  </tbody>\n",
       "</table>\n",
       "</div>"
      ],
      "text/plain": [
       "           importance\n",
       "pump_spd     0.002022\n",
       "O2           0.002240\n",
       "T5           0.002737\n",
       "Q_CH4        0.002756\n",
       "impl_spd1    0.002952\n",
       "T31          0.003354\n",
       "T9           0.008812\n",
       "T20          0.013796\n",
       "T21          0.338410\n",
       "T17          0.615026"
      ]
     },
     "execution_count": 58,
     "metadata": {},
     "output_type": "execute_result"
    }
   ],
   "source": [
    "selector = xgb.XGBRegressor(objective=objective, eval_metric='mape', random_state=42)\n",
    "selector.fit(X_std, y)\n",
    "\n",
    "feature_importances = pd.DataFrame({'importance' : selector.feature_importances_}, \n",
    "                                   index=X_std.columns).sort_values(by='importance', ascending=True)\n",
    "\n",
    "feature_importances = feature_importances.iloc[-n:, :]  # get n-strongest features\n",
    "\n",
    "plt.figure(figsize=(7, n/2))\n",
    "plt.barh(range(len(feature_importances.index)), feature_importances.importance, align='center')\n",
    "plt.yticks(range(len(feature_importances.index)), feature_importances.index)\n",
    "plt.xlabel('Feature weight')\n",
    "plt.tight_layout()\n",
    "plt.savefig('pictures/standard_feature_important.png', dpi = 300, transparent = True)\n",
    "plt.title('XGBoost features importance (MDI)')\n",
    "plt.show()\n",
    "\n",
    "feature_importances"
   ]
  },
  {
   "cell_type": "markdown",
   "id": "68307b3a",
   "metadata": {},
   "source": [
    "### Permutation Importance (PI)"
   ]
  },
  {
   "cell_type": "code",
   "execution_count": 59,
   "id": "5acd4fb2",
   "metadata": {},
   "outputs": [
    {
     "data": {
      "image/png": "[encoded data removed]",
      "text/plain": [
       "<Figure size 700x500 with 1 Axes>"
      ]
     },
     "metadata": {},
     "output_type": "display_data"
    },
    {
     "data": {
      "text/html": [
       "<div>\n",
       "<style scoped>\n",
       "    .dataframe tbody tr th:only-of-type {\n",
       "        vertical-align: middle;\n",
       "    }\n",
       "\n",
       "    .dataframe tbody tr th {\n",
       "        vertical-align: top;\n",
       "    }\n",
       "\n",
       "    .dataframe thead th {\n",
       "        text-align: right;\n",
       "    }\n",
       "</style>\n",
       "<table border=\"1\" class=\"dataframe\">\n",
       "  <thead>\n",
       "    <tr style=\"text-align: right;\">\n",
       "      <th></th>\n",
       "      <th>importance</th>\n",
       "    </tr>\n",
       "  </thead>\n",
       "  <tbody>\n",
       "    <tr>\n",
       "      <th>T12</th>\n",
       "      <td>0.003860</td>\n",
       "    </tr>\n",
       "    <tr>\n",
       "      <th>impl_spd1</th>\n",
       "      <td>0.004506</td>\n",
       "    </tr>\n",
       "    <tr>\n",
       "      <th>T22</th>\n",
       "      <td>0.007067</td>\n",
       "    </tr>\n",
       "    <tr>\n",
       "      <th>O2</th>\n",
       "      <td>0.007996</td>\n",
       "    </tr>\n",
       "    <tr>\n",
       "      <th>Q_CH4_N2</th>\n",
       "      <td>0.009256</td>\n",
       "    </tr>\n",
       "    <tr>\n",
       "      <th>T9</th>\n",
       "      <td>0.018598</td>\n",
       "    </tr>\n",
       "    <tr>\n",
       "      <th>T5</th>\n",
       "      <td>0.031860</td>\n",
       "    </tr>\n",
       "    <tr>\n",
       "      <th>T17</th>\n",
       "      <td>0.094404</td>\n",
       "    </tr>\n",
       "    <tr>\n",
       "      <th>T20</th>\n",
       "      <td>0.096523</td>\n",
       "    </tr>\n",
       "    <tr>\n",
       "      <th>T21</th>\n",
       "      <td>0.288100</td>\n",
       "    </tr>\n",
       "  </tbody>\n",
       "</table>\n",
       "</div>"
      ],
      "text/plain": [
       "           importance\n",
       "T12          0.003860\n",
       "impl_spd1    0.004506\n",
       "T22          0.007067\n",
       "O2           0.007996\n",
       "Q_CH4_N2     0.009256\n",
       "T9           0.018598\n",
       "T5           0.031860\n",
       "T17          0.094404\n",
       "T20          0.096523\n",
       "T21          0.288100"
      ]
     },
     "execution_count": 59,
     "metadata": {},
     "output_type": "execute_result"
    }
   ],
   "source": [
    "feature_importances = pd.DataFrame(\n",
    "    {'importance' : permutation_importance(selector, X_std, y, n_repeats=5, random_state=42, n_jobs=-1).importances_mean},\n",
    "    index=X_std.columns).sort_values(by='importance', ascending=True)\n",
    "\n",
    "feature_importances = feature_importances.iloc[-n:, :]  # get 10 strongest features\n",
    "\n",
    "plt.figure(figsize=(7, n/2))\n",
    "plt.barh(range(len(feature_importances.index)), feature_importances.importance, align='center')\n",
    "plt.yticks(range(len(feature_importances.index)), feature_importances.index)\n",
    "plt.xlabel('Feature weight')\n",
    "plt.tight_layout()\n",
    "plt.savefig('pictures/Permutation_Importance.png', dpi = 300, transparent = True)\n",
    "plt.title('Permutation Importance')\n",
    "plt.show()\n",
    "\n",
    "feature_importances"
   ]
  },
  {
   "cell_type": "markdown",
   "id": "7c73a67c",
   "metadata": {},
   "source": [
    "### SHapley Additive exPlanations (SHAP)"
   ]
  },
  {
   "cell_type": "code",
   "execution_count": 60,
   "id": "c354a2b0",
   "metadata": {
    "scrolled": false
   },
   "outputs": [
    {
     "data": {
      "text/plain": [
       "<function matplotlib.pyplot.show(close=None, block=None)>"
      ]
     },
     "execution_count": 60,
     "metadata": {},
     "output_type": "execute_result"
    },
    {
     "data": {
      "image/png": "[encoded data removed]",
      "text/plain": [
       "<Figure size 700x500 with 1 Axes>"
      ]
     },
     "metadata": {},
     "output_type": "display_data"
    }
   ],
   "source": [
    "explainer = shap.Explainer(selector)\n",
    "shap_importances = explainer(X_std)\n",
    "\n",
    "shap.plots.bar(shap_importances, max_display=n+1, show=False)\n",
    "\n",
    "plt.gcf().set_size_inches(7, n/2)\n",
    "plt.title('SHAP Importance')\n",
    "plt.tight_layout()\n",
    "plt.savefig('pictures/SHAP_Importance.png', dpi = 300, transparent = True)\n",
    "plt.show"
   ]
  },
  {
   "cell_type": "markdown",
   "id": "769327f4",
   "metadata": {},
   "source": [
    "###\tPrincipal component analysis (PCA)"
   ]
  },
  {
   "cell_type": "code",
   "execution_count": 61,
   "id": "7d0fc4d6",
   "metadata": {},
   "outputs": [],
   "source": [
    "# Features PCA decomposition\n",
    "n = 5  # number strongest features\n",
    "pca = PCA(n_components=n)\n",
    "pca.fit(X_std)\n",
    "X_dec = pca.fit_transform(X_std)\n",
    "X_dec = pd.DataFrame(X_dec, columns=[f'component{i}' for i in range(n)])"
   ]
  },
  {
   "cell_type": "code",
   "execution_count": 62,
   "id": "8014d6d6",
   "metadata": {
    "scrolled": false
   },
   "outputs": [
    {
     "data": {
      "image/png": "[encoded data removed]",
      "text/plain": [
       "<Figure size 700x250 with 1 Axes>"
      ]
     },
     "metadata": {},
     "output_type": "display_data"
    },
    {
     "data": {
      "text/html": [
       "<div>\n",
       "<style scoped>\n",
       "    .dataframe tbody tr th:only-of-type {\n",
       "        vertical-align: middle;\n",
       "    }\n",
       "\n",
       "    .dataframe tbody tr th {\n",
       "        vertical-align: top;\n",
       "    }\n",
       "\n",
       "    .dataframe thead th {\n",
       "        text-align: right;\n",
       "    }\n",
       "</style>\n",
       "<table border=\"1\" class=\"dataframe\">\n",
       "  <thead>\n",
       "    <tr style=\"text-align: right;\">\n",
       "      <th></th>\n",
       "      <th>importance</th>\n",
       "    </tr>\n",
       "  </thead>\n",
       "  <tbody>\n",
       "    <tr>\n",
       "      <th>component1</th>\n",
       "      <td>0.004943</td>\n",
       "    </tr>\n",
       "    <tr>\n",
       "      <th>component4</th>\n",
       "      <td>0.007295</td>\n",
       "    </tr>\n",
       "    <tr>\n",
       "      <th>component3</th>\n",
       "      <td>0.033560</td>\n",
       "    </tr>\n",
       "    <tr>\n",
       "      <th>component2</th>\n",
       "      <td>0.181446</td>\n",
       "    </tr>\n",
       "    <tr>\n",
       "      <th>component0</th>\n",
       "      <td>0.772756</td>\n",
       "    </tr>\n",
       "  </tbody>\n",
       "</table>\n",
       "</div>"
      ],
      "text/plain": [
       "            importance\n",
       "component1    0.004943\n",
       "component4    0.007295\n",
       "component3    0.033560\n",
       "component2    0.181446\n",
       "component0    0.772756"
      ]
     },
     "execution_count": 62,
     "metadata": {},
     "output_type": "execute_result"
    }
   ],
   "source": [
    "selector = xgb.XGBRegressor(objective=objective, eval_metric='mape', random_state=42)\n",
    "selector.fit(X_dec, y)\n",
    "\n",
    "feature_importances = pd.DataFrame({'importance' : selector.feature_importances_}, \n",
    "                                   index=X_dec.columns).sort_values(by='importance', ascending=True)\n",
    "\n",
    "plt.figure(figsize=(7, n/2))\n",
    "plt.barh(range(len(feature_importances.index)), feature_importances.importance, align='center')\n",
    "plt.yticks(range(len(feature_importances.index)), feature_importances.index)\n",
    "plt.xlabel('Feature weight')\n",
    "plt.tight_layout()\n",
    "plt.savefig('pictures/PCA-Decomposed_feature_important.png', dpi = 300, transparent = True)\n",
    "plt.title('PCA-XGBoost features importance')\n",
    "plt.show()\n",
    "\n",
    "feature_importances"
   ]
  },
  {
   "cell_type": "markdown",
   "id": "d0612bb0",
   "metadata": {},
   "source": [
    "###  Search learning objective"
   ]
  },
  {
   "cell_type": "markdown",
   "id": "28e2c3b5",
   "metadata": {},
   "source": [
    "**(!)squarederror**  *the most narrative features* <br> \n",
    "<br>top 3 high weights\n",
    "- MDI:  0.854238, 0.054071, 0.022287\n",
    "- PI:   0.703757, 0.172862, 0.114753\n",
    "- SHAP: 10.55, 1.82, 1.52\n",
    "- PCA:  0.848779, 0.060443, 0.048946 (n = 5)\n",
    "\n",
    "<br>top 10 strong feature\n",
    "- MDI:  T20, T17, T9, T21, pump_spd, T16, O2, impl_spd1, I, T22\n",
    "- PI:   T20, W, I, T9, T21, T17, T22, T16, T3, pump_spd\n",
    "- SHAP: T20, Т9, Т17, Т21, I, Т16, W, T3, T22, O2    \n",
    "\n",
    "general signs for MDI, PI and SHAP (9): **T22, T20, T21, T17, T16, T9, I, W** <br>\n",
    "\n",
    "**squaredlogerror**\n",
    "- MDI:  0.615026, 0.338410, 0.013796\n",
    "- PI:   0.288100, 0.096523, 0.094404\n",
    "- SHAP: 16.41, 8.32, 3.96\n",
    "- PCA:  0.772756, 0.181446, 0.033560 (n = 5)\n",
    "+\n",
    "- MDI:   T17, T21, T20, T9, T31, impl_spd1, Q_CH4, T5, O2, pump_spd\n",
    "- PI:    T21, T20, T17, T5, T9, Q_CH4_N2, O2, T22, impl_spd1, T12\n",
    "- SHAP:  T21, T17, T20, T9, T5, T22, T16, Q_CH4_N2, T12, impl_spd1\n",
    " <br>\n",
    "general signs for MDI, PI and SHAP (8): **T21, T17, T20, T12, T9, T5, impl_spd1** <br>\n",
    "\n",
    "<br>**pseudohubererror**  *the best distribution of weights between features for MDI*\n",
    "- MDI:  0.284817, 0.208115, 0.104297\n",
    "- PI:   1764.165323, 1478.228442, 177.918050\n",
    "- SHAP: 1232.55, 1222.17, 87.86\n",
    "- PCA:  0.488028, 0.232588, 0.135599 (n = 5)\n",
    "+\n",
    "- MDI:  T20, T17, pump_spd, O2, Q_CH4, T12, T3, Q_CH4_N2, T7, impl_spd1\n",
    "- PI:   T20, T17, T12, Q_CH4, T9, T16, Q_CH4_N2, pump_spd, T31\n",
    "- SHAP: T17, T20, T25, T9, T16, Q_CH4_N2, T21, T3, impl_spd1, Q_CH4\n",
    " <br>\n",
    "general signs for MDI, PI and SHAP (5): **T20, T17, Q_CH4, Q_CH4_N2**  <br>\n",
    "\n",
    "<br>**(!)absoluteerror**  *the best distribution of weights between features for PI, PCA and SHAP* <br>\n",
    "- MDI:  0.448591, 0.102074, 0.079580\n",
    "- PI:   0.287426, 0.102639, 0.067397\n",
    "- SHAP: 4.68, 3.37, 3.15\n",
    "- PCA:  0.308782, 0.211287, 0.207408 (n = 5)\n",
    "+ \n",
    "- MDI:  impl_spd1, T17, T20, T5, W, T9, I, T31, T21, T22\n",
    "- PI:   T17, T20, T5, T9, T21, T25, Q_CH4_N2, pump_spd, T3, T23\n",
    "- SHAP: T5, T17, T20, impl_spd1, T21, T31, T9, W, pump_spd, T22\n",
    "\n",
    "general signs for MDI, PI and SHAP (7): **T17, T20, T5, T9, T21, W, impl_spd1**"
   ]
  },
  {
   "cell_type": "markdown",
   "id": "b00e910c",
   "metadata": {},
   "source": [
    "# Fit models"
   ]
  },
  {
   "cell_type": "markdown",
   "id": "f46df32b",
   "metadata": {},
   "source": [
    "## XGBoost"
   ]
  },
  {
   "cell_type": "code",
   "execution_count": null,
   "id": "419a7972",
   "metadata": {},
   "outputs": [],
   "source": [
    "# 7 variants:\n",
    "# the most narrative features (squarederror)\n",
    "# squaredlogerror\n",
    "# the best distribution of weights between features for MDI (pseudohubererror)\n",
    "# the best distribution of weights between features for PI, PCA and SHAP (absoluteerror)\n",
    "# PCA (absoluteerror, 5 component)\n",
    "# PCA (squarederror, 5 component)\n",
    "# full feature set whis default XGBoost option"
   ]
  },
  {
   "cell_type": "markdown",
   "id": "03bffead",
   "metadata": {},
   "source": [
    "### variant 1 (squarederror)"
   ]
  },
  {
   "cell_type": "code",
   "execution_count": 65,
   "id": "e38adb2f",
   "metadata": {},
   "outputs": [
    {
     "name": "stdout",
     "output_type": "stream",
     "text": [
      "Fitting 5 folds for each of 48 candidates, totalling 240 fits\n",
      "Best XGBRegressor-params: {'gamma': 0.1, 'learning_rate': 0.2, 'max_depth': 5}\n",
      "CPU times: total: 2min 47s\n",
      "Wall time: 22.5 s\n"
     ]
    }
   ],
   "source": [
    "%%time\n",
    "\n",
    "X_train1 = X_train[['T22', 'T20', 'T21', 'T17', 'T16', 'T9', 'I', 'W']]\n",
    "X_test1 = X_test[['T22', 'T20', 'T21', 'T17', 'T16', 'T9', 'I', 'W']]\n",
    "\n",
    "XGB_grid = GridSearchCV(estimator=xgb.XGBRegressor(objective='reg:squarederror', random_state=42),\n",
    "                        param_grid={\n",
    "                                    'max_depth': range(2, 6),\n",
    "                                    'learning_rate': [0.01, 0.1, 0.2],\n",
    "                                    'gamma': [0, 0.1, 1, 10],\n",
    "                                    #'min_child_weight': [0, 0.1, 1, 10]\n",
    "                                   },\n",
    "                        verbose=1,\n",
    "                        cv=ShuffleSplit(n_splits=5, random_state=42))\n",
    "\n",
    "XGB_grid.fit(X_train1, y_train)\n",
    "print(\"Best XGBRegressor-params:\", XGB_grid.best_params_)"
   ]
  },
  {
   "cell_type": "code",
   "execution_count": 66,
   "id": "e85ae9c1",
   "metadata": {},
   "outputs": [
    {
     "name": "stdout",
     "output_type": "stream",
     "text": [
      "squarederror\n",
      "r2_score: 0.9960866831655701\n",
      "MSE: 1.2858988096591528\n",
      "MAE: 0.45179722583039666\n",
      "MAPE: 4.07%\n"
     ]
    }
   ],
   "source": [
    "XGB_best = XGB_grid.best_estimator_\n",
    "y_pred = XGB_best.predict(X_test1)\n",
    "\n",
    "print('squarederror',\n",
    "      f'r2_score: {r2_score(y_pred, y_test)}',\n",
    "      f'MSE: {MSE(y_pred, y_test)}',\n",
    "      f'MAE: {MAE(y_pred, y_test)}',\n",
    "      f'MAPE: {MAPE(y_pred, y_test):.2%}', sep='\\n')"
   ]
  },
  {
   "cell_type": "code",
   "execution_count": 67,
   "id": "feecec2f",
   "metadata": {},
   "outputs": [
    {
     "data": {
      "image/png": "[encoded data removed]",
      "text/plain": [
       "<Figure size 720x480 with 1 Axes>"
      ]
     },
     "metadata": {},
     "output_type": "display_data"
    },
    {
     "data": {
      "text/plain": [
       "<AxesSubplot: title={'center': 'Learning Curve for XGBRegressor'}, xlabel='Training Instances', ylabel='Score'>"
      ]
     },
     "execution_count": 67,
     "metadata": {},
     "output_type": "execute_result"
    }
   ],
   "source": [
    "# Plotting learning curve for XGBoost regressor\n",
    "cv = ShuffleSplit(n_splits=5, random_state=42)\n",
    "sizes = np.linspace(0.3, 1.0, 10)\n",
    "plt.figure(figsize=(8,6))\n",
    "visualizer = LearningCurve(XGB_best, cv=cv, scoring='r2', train_sizes=sizes, n_jobs=-1, size=(720, 480))\n",
    "visualizer.fit(X_std,y)\n",
    "visualizer.show()"
   ]
  },
  {
   "cell_type": "markdown",
   "id": "cc750b0c",
   "metadata": {},
   "source": [
    "### variant 2 (squaredlogerror)"
   ]
  },
  {
   "cell_type": "code",
   "execution_count": 72,
   "id": "3d8ca172",
   "metadata": {},
   "outputs": [
    {
     "name": "stdout",
     "output_type": "stream",
     "text": [
      "Fitting 5 folds for each of 48 candidates, totalling 240 fits\n",
      "Best XGBRegressor-params: {'gamma': 0, 'learning_rate': 0.2, 'max_depth': 5}\n",
      "CPU times: total: 2min 47s\n",
      "Wall time: 22.6 s\n"
     ]
    }
   ],
   "source": [
    "%%time\n",
    "\n",
    "X_train2 = X_train[['T21', 'T17', 'T20', 'T12', 'T9', 'T5', 'impl_spd1']]\n",
    "X_test2 = X_test[['T21', 'T17', 'T20', 'T12', 'T9', 'T5', 'impl_spd1']]\n",
    "\n",
    "XGB_grid = GridSearchCV(estimator=xgb.XGBRegressor(objective='reg:squaredlogerror', random_state=42),\n",
    "                        param_grid={\n",
    "                                    'max_depth': range(2, 6),\n",
    "                                    'learning_rate': [0.01, 0.1, 0.2],\n",
    "                                    'gamma': [0, 0.1, 1, 10],\n",
    "                                    #'min_child_weight': [0, 0.1, 1, 10]\n",
    "                                   },\n",
    "                        verbose=1,\n",
    "                        cv=ShuffleSplit(n_splits=5, random_state=42))\n",
    "\n",
    "XGB_grid.fit(X_train2, y_train)\n",
    "print(\"Best XGBRegressor-params:\", XGB_grid.best_params_)"
   ]
  },
  {
   "cell_type": "code",
   "execution_count": 73,
   "id": "0d570726",
   "metadata": {},
   "outputs": [
    {
     "name": "stdout",
     "output_type": "stream",
     "text": [
      "squaredlogerror\n",
      "r2_score: 0.9780295790306229\n",
      "MSE: 7.05391198977762\n",
      "MAE: 1.404085987755839\n",
      "MAPE: 5.25%\n"
     ]
    }
   ],
   "source": [
    "XGB_best = XGB_grid.best_estimator_\n",
    "y_pred = XGB_best.predict(X_test2)\n",
    "\n",
    "print('squaredlogerror',\n",
    "      f'r2_score: {r2_score(y_pred, y_test)}',\n",
    "      f'MSE: {MSE(y_pred, y_test)}',\n",
    "      f'MAE: {MAE(y_pred, y_test)}',\n",
    "      f'MAPE: {MAPE(y_pred, y_test):.2%}', sep='\\n')"
   ]
  },
  {
   "cell_type": "markdown",
   "id": "10f32144",
   "metadata": {},
   "source": [
    "### variant 3 (pseudohubererror)"
   ]
  },
  {
   "cell_type": "code",
   "execution_count": 74,
   "id": "2c9af08c",
   "metadata": {},
   "outputs": [
    {
     "name": "stdout",
     "output_type": "stream",
     "text": [
      "Fitting 5 folds for each of 48 candidates, totalling 240 fits\n",
      "Best XGBRegressor-params: {'gamma': 10, 'learning_rate': 0.01, 'max_depth': 5}\n",
      "CPU times: total: 2min 21s\n",
      "Wall time: 19.3 s\n"
     ]
    }
   ],
   "source": [
    "%%time\n",
    "\n",
    "X_train3 = X_train[['T20', 'T17', 'Q_CH4', 'Q_CH4_N2']]\n",
    "X_test3 = X_test[['T20', 'T17', 'Q_CH4', 'Q_CH4_N2']]\n",
    "\n",
    "XGB_grid = GridSearchCV(estimator=xgb.XGBRegressor(objective='reg:pseudohubererror', random_state=42),\n",
    "                        param_grid={\n",
    "                                    'max_depth': range(2, 6),\n",
    "                                    'learning_rate': [0.01, 0.1, 0.2],\n",
    "                                    'gamma': [0, 0.1, 1, 10],\n",
    "                                    #'min_child_weight': [0, 0.1, 1, 10]\n",
    "                                   },\n",
    "                        verbose=1,\n",
    "                        cv=ShuffleSplit(n_splits=5, random_state=42))\n",
    "\n",
    "XGB_grid.fit(X_train3, y_train)\n",
    "print(\"Best XGBRegressor-params:\", XGB_grid.best_params_)"
   ]
  },
  {
   "cell_type": "code",
   "execution_count": 75,
   "id": "2b3ac6e6",
   "metadata": {},
   "outputs": [
    {
     "name": "stdout",
     "output_type": "stream",
     "text": [
      "pseudohubererror\n",
      "r2_score: 0.9766640158638075\n",
      "MSE: 7.692903942070315\n",
      "MAE: 1.2774482699483434\n",
      "MAPE: 9.29%\n"
     ]
    }
   ],
   "source": [
    "XGB_best = XGB_grid.best_estimator_\n",
    "y_pred = XGB_best.predict(X_test3)\n",
    "\n",
    "print('pseudohubererror',\n",
    "      f'r2_score: {r2_score(y_pred, y_test)}',\n",
    "      f'MSE: {MSE(y_pred, y_test)}',\n",
    "      f'MAE: {MAE(y_pred, y_test)}',\n",
    "      f'MAPE: {MAPE(y_pred, y_test):.2%}', sep='\\n')"
   ]
  },
  {
   "cell_type": "markdown",
   "id": "e9d4a640",
   "metadata": {},
   "source": [
    "### variant 4 (absoluteerror)"
   ]
  },
  {
   "cell_type": "code",
   "execution_count": 76,
   "id": "f5f5ab73",
   "metadata": {},
   "outputs": [
    {
     "name": "stdout",
     "output_type": "stream",
     "text": [
      "Fitting 5 folds for each of 48 candidates, totalling 240 fits\n",
      "Best XGBRegressor-params: {'gamma': 0.1, 'learning_rate': 0.1, 'max_depth': 5}\n",
      "CPU times: total: 10min 26s\n",
      "Wall time: 1min 23s\n"
     ]
    }
   ],
   "source": [
    "%%time\n",
    "\n",
    "X_train4 = X_train[['T17', 'T20', 'T5', 'T9', 'T21', 'W', 'impl_spd1']]\n",
    "X_test4 = X_test[['T17', 'T20', 'T5', 'T9', 'T21', 'W', 'impl_spd1']]\n",
    "\n",
    "XGB_grid = GridSearchCV(estimator=xgb.XGBRegressor(objective='reg:absoluteerror', random_state=42),\n",
    "                        param_grid={\n",
    "                                    'max_depth': range(2, 6),\n",
    "                                    'learning_rate': [0.01, 0.1, 0.2],\n",
    "                                    'gamma': [0, 0.1, 1, 10],\n",
    "                                    #'min_child_weight': [0, 0.1, 1, 10]\n",
    "                                   },\n",
    "                        verbose=1,\n",
    "                        cv=ShuffleSplit(n_splits=5, random_state=42))\n",
    "\n",
    "XGB_grid.fit(X_train4, y_train)\n",
    "print(\"Best XGBRegressor-params:\", XGB_grid.best_params_)"
   ]
  },
  {
   "cell_type": "code",
   "execution_count": 77,
   "id": "2e6f0958",
   "metadata": {},
   "outputs": [
    {
     "name": "stdout",
     "output_type": "stream",
     "text": [
      "absoluteerror\n",
      "r2_score: 0.987902938033441\n",
      "MSE: 3.943018268005512\n",
      "MAE: 0.8157674311628568\n",
      "MAPE: 6.93%\n"
     ]
    }
   ],
   "source": [
    "XGB_best = XGB_grid.best_estimator_\n",
    "y_pred = XGB_best.predict(X_test4)\n",
    "\n",
    "print('absoluteerror',\n",
    "      f'r2_score: {r2_score(y_pred, y_test)}',\n",
    "      f'MSE: {MSE(y_pred, y_test)}',\n",
    "      f'MAE: {MAE(y_pred, y_test)}',\n",
    "      f'MAPE: {MAPE(y_pred, y_test):.2%}', sep='\\n')"
   ]
  },
  {
   "cell_type": "markdown",
   "id": "decf9bd7",
   "metadata": {},
   "source": [
    "### variant 5 (PCA, absoluteerror)"
   ]
  },
  {
   "cell_type": "code",
   "execution_count": 78,
   "id": "7597e9e9",
   "metadata": {},
   "outputs": [],
   "source": [
    "# Features PCA decomposition\n",
    "n = 5  # number strongest features\n",
    "pca = PCA(n_components=n)\n",
    "pca.fit(X_std)\n",
    "X_dec = pca.fit_transform(X_std)\n",
    "X_dec = pd.DataFrame(X_dec, columns=[f'component{i}' for i in range(n)])\n",
    "\n",
    "X_dec_train6, X_dec_test6, y_train, y_test = train_test_split(X_dec, y, test_size=0.2, random_state=42)"
   ]
  },
  {
   "cell_type": "code",
   "execution_count": 79,
   "id": "3e5f0899",
   "metadata": {},
   "outputs": [
    {
     "name": "stdout",
     "output_type": "stream",
     "text": [
      "Fitting 5 folds for each of 48 candidates, totalling 240 fits\n",
      "Best XGBRegressor-params: {'gamma': 0.1, 'learning_rate': 0.2, 'max_depth': 5}\n"
     ]
    }
   ],
   "source": [
    "%%time\n",
    "\n",
    "XGB_grid = GridSearchCV(estimator=xgb.XGBRegressor(objective='reg:absoluteerror', random_state=42),\n",
    "                        param_grid={\n",
    "                                    'max_depth': range(2, 6),\n",
    "                                    'learning_rate': [0.01, 0.1, 0.2],\n",
    "                                    'gamma': [0, 0.1, 1, 10],\n",
    "                                    #'min_child_weight': [0, 0.1, 1, 10]\n",
    "                                   }, \n",
    "                        verbose=1,\n",
    "                        cv=ShuffleSplit(n_splits=5, random_state=42))\n",
    "\n",
    "XGB_grid.fit(X_dec_train6, y_train)\n",
    "print(\"Best XGBRegressor-params:\", XGB_grid.best_params_)"
   ]
  },
  {
   "cell_type": "code",
   "execution_count": 80,
   "id": "d7da6208",
   "metadata": {},
   "outputs": [
    {
     "name": "stdout",
     "output_type": "stream",
     "text": [
      "PCA-absoluteerror\n",
      "r2_score: 0.9906311028817028\n",
      "MSE: 3.0555933882039885\n",
      "MAE: 0.6291953036666968\n",
      "MAPE: 9.73%\n"
     ]
    }
   ],
   "source": [
    "XGB_best = XGB_grid.best_estimator_\n",
    "y_pred = XGB_best.predict(X_dec_test6)\n",
    "\n",
    "print('PCA-absoluteerror',\n",
    "      f'r2_score: {r2_score(y_pred, y_test)}',\n",
    "      f'MSE: {MSE(y_pred, y_test)}',\n",
    "      f'MAE: {MAE(y_pred, y_test)}',\n",
    "      f'MAPE: {MAPE(y_pred, y_test):.2%}', sep='\\n')"
   ]
  },
  {
   "cell_type": "markdown",
   "id": "fa6077e7",
   "metadata": {},
   "source": [
    "### variant 6 (PCA, squarederror)"
   ]
  },
  {
   "cell_type": "code",
   "execution_count": 89,
   "id": "38c55ca6",
   "metadata": {},
   "outputs": [],
   "source": [
    "# Features PCA decomposition\n",
    "n = 6  # number strongest features\n",
    "pca = PCA(n_components=n)\n",
    "pca.fit(X_std)\n",
    "X_dec = pca.fit_transform(X_std)\n",
    "X_dec = pd.DataFrame(X_dec, columns=[f'component{i}' for i in range(n)])\n",
    "\n",
    "X_dec_train7, X_dec_test7, y_train, y_test = train_test_split(X_dec, y, test_size=0.2, random_state=42)"
   ]
  },
  {
   "cell_type": "code",
   "execution_count": 90,
   "id": "85267f32",
   "metadata": {},
   "outputs": [
    {
     "name": "stdout",
     "output_type": "stream",
     "text": [
      "Fitting 5 folds for each of 48 candidates, totalling 240 fits\n",
      "Best XGBRegressor-params: {'gamma': 0.1, 'learning_rate': 0.2, 'max_depth': 5}\n",
      "CPU times: total: 2min 35s\n",
      "Wall time: 21.8 s\n"
     ]
    }
   ],
   "source": [
    "%%time\n",
    "\n",
    "XGB_grid = GridSearchCV(estimator=xgb.XGBRegressor(objective='reg:squarederror', random_state=42),\n",
    "                        param_grid={\n",
    "                                    'max_depth': range(2, 6),\n",
    "                                    'learning_rate': [0.01, 0.1, 0.2],\n",
    "                                    'gamma': [0, 0.1, 1, 10],\n",
    "                                    #'min_child_weight': [0, 0.1, 1, 10]\n",
    "                                   }, \n",
    "                        verbose=1,\n",
    "                        cv=ShuffleSplit(n_splits=5, random_state=42))\n",
    "\n",
    "XGB_grid.fit(X_dec_train7, y_train)\n",
    "print(\"Best XGBRegressor-params:\", XGB_grid.best_params_)"
   ]
  },
  {
   "cell_type": "code",
   "execution_count": 91,
   "id": "3fbd9a73",
   "metadata": {},
   "outputs": [
    {
     "name": "stdout",
     "output_type": "stream",
     "text": [
      "PCA-quarederror\n",
      "r2_score: 0.9948147169366922\n",
      "MSE: 1.7044694881475393\n",
      "MAE: 0.44088825269094745\n",
      "MAPE: 4.40%\n"
     ]
    }
   ],
   "source": [
    "XGB_best = XGB_grid.best_estimator_\n",
    "y_pred = XGB_best.predict(X_dec_test7)\n",
    "\n",
    "print('PCA-quarederror',\n",
    "      f'r2_score: {r2_score(y_pred, y_test)}',\n",
    "      f'MSE: {MSE(y_pred, y_test)}',\n",
    "      f'MAE: {MAE(y_pred, y_test)}',\n",
    "      f'MAPE: {MAPE(y_pred, y_test):.2%}', sep='\\n')"
   ]
  },
  {
   "cell_type": "markdown",
   "id": "3f99ade1",
   "metadata": {},
   "source": [
    "### variant 7 (default)"
   ]
  },
  {
   "cell_type": "code",
   "execution_count": 84,
   "id": "044de40c",
   "metadata": {},
   "outputs": [
    {
     "name": "stdout",
     "output_type": "stream",
     "text": [
      "Fitting 5 folds for each of 48 candidates, totalling 240 fits\n",
      "Best XGBRegressor-params: {'gamma': 0.1, 'learning_rate': 0.2, 'max_depth': 5}\n"
     ]
    }
   ],
   "source": [
    "%%time\n",
    "\n",
    "XGB_grid = GridSearchCV(estimator=xgb.XGBRegressor(random_state=42),\n",
    "                        param_grid={\n",
    "                                    'max_depth': range(2, 6),\n",
    "                                    'learning_rate': [0.01, 0.1, 0.2],\n",
    "                                    'gamma': [0, 0.1, 1, 10],\n",
    "                                    #'min_child_weight': [0, 0.1, 1, 10]\n",
    "                                   }, \n",
    "                        verbose=1,\n",
    "                        cv=ShuffleSplit(n_splits=5, random_state=42))\n",
    "\n",
    "XGB_grid.fit(X_train, y_train)\n",
    "print(\"Best XGBRegressor-params:\", XGB_grid.best_params_)"
   ]
  },
  {
   "cell_type": "code",
   "execution_count": 85,
   "id": "eca7affb",
   "metadata": {},
   "outputs": [
    {
     "name": "stdout",
     "output_type": "stream",
     "text": [
      "default XGBoost\n",
      "r2_score: 0.9970260019961286\n",
      "MSE: 0.9792068782301675\n",
      "MAE: 0.30900999086573977\n",
      "MAPE: 2.82%\n"
     ]
    }
   ],
   "source": [
    "XGB_best = XGB_grid.best_estimator_\n",
    "y_pred = XGB_best.predict(X_test)\n",
    "\n",
    "print('default XGBoost',\n",
    "      f'r2_score: {r2_score(y_pred, y_test)}',\n",
    "      f'MSE: {MSE(y_pred, y_test)}',\n",
    "      f'MAE: {MAE(y_pred, y_test)}',\n",
    "      f'MAPE: {MAPE(y_pred, y_test):.2%}', sep='\\n')"
   ]
  }
 ],
 "metadata": {
  "kernelspec": {
   "display_name": "Python 3 (ipykernel)",
   "language": "python",
   "name": "python3"
  },
  "language_info": {
   "codemirror_mode": {
    "name": "ipython",
    "version": 3
   },
   "file_extension": ".py",
   "mimetype": "text/x-python",
   "name": "python",
   "nbconvert_exporter": "python",
   "pygments_lexer": "ipython3",
   "version": "3.10.7"
  },
  "toc": {
   "base_numbering": 1,
   "nav_menu": {},
   "number_sections": true,
   "sideBar": true,
   "skip_h1_title": false,
   "title_cell": "Table of Contents",
   "title_sidebar": "Contents",
   "toc_cell": false,
   "toc_position": {
    "height": "calc(100% - 180px)",
    "left": "10px",
    "top": "150px",
    "width": "322.663px"
   },
   "toc_section_display": true,
   "toc_window_display": true
  }
 },
 "nbformat": 4,
 "nbformat_minor": 5
}
